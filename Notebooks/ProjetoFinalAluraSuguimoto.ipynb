{
  "nbformat": 4,
  "nbformat_minor": 0,
  "metadata": {
    "colab": {
      "name": "ProjetoFinalAluraSuguimoto.ipynb",
      "provenance": [],
      "collapsed_sections": [
        "yu4ATnwpU3In",
        "Y1vbr-FCynhC",
        "tz_orpeChNIV",
        "xW5Fzg4hhtMC",
        "Anp4IXv19rZ8",
        "GgX0kzdFGfb5",
        "egTVd1ymqSDs"
      ],
      "authorship_tag": "ABX9TyP41al6rWgQBdoieo22Rtu9",
      "include_colab_link": true
    },
    "kernelspec": {
      "name": "python3",
      "display_name": "Python 3"
    },
    "language_info": {
      "name": "python"
    }
  },
  "cells": [
    {
      "cell_type": "markdown",
      "metadata": {
        "id": "view-in-github",
        "colab_type": "text"
      },
      "source": [
        "<a href=\"https://colab.research.google.com/github/vsuguimoto/imersao-dados-desafio-final/blob/main/Notebooks/ProjetoFinalAluraSuguimoto.ipynb\" target=\"_parent\"><img src=\"https://colab.research.google.com/assets/colab-badge.svg\" alt=\"Open In Colab\"/></a>"
      ]
    },
    {
      "cell_type": "markdown",
      "metadata": {
        "id": "OAbTS_nJx9Ip"
      },
      "source": [
        "<center><img src=\"https://www.alura.com.br/assets/img/imersoes/imersao-dados/logo-mersao.1616501197.svg\" alt=\"drawing\" width=\"200\"/><center/>"
      ]
    },
    {
      "cell_type": "markdown",
      "metadata": {
        "id": "yu4ATnwpU3In"
      },
      "source": [
        "### Importações e Funções"
      ]
    },
    {
      "cell_type": "code",
      "metadata": {
        "id": "e-EOuJMJU6L5"
      },
      "source": [
        "# Importações\n",
        "import pandas as pd\n",
        "import seaborn as sns\n",
        "import matplotlib.pyplot as plt\n",
        "from sklearn.ensemble import RandomForestClassifier\n",
        "from sklearn.model_selection import train_test_split\n",
        "from sklearn.dummy import DummyClassifier\n",
        "from sklearn.metrics import accuracy_score\n",
        "sns.set()"
      ],
      "execution_count": 60,
      "outputs": []
    },
    {
      "cell_type": "code",
      "metadata": {
        "id": "q-DKjrPlmTJt"
      },
      "source": [
        "# Funções\n",
        "\n",
        "# Usadas em Dados\n",
        "def informacoesDados(coluna):\n",
        "  '''Verifica as informações de uma variável categórica para o dataset\n",
        "  dados.\n",
        "  '''\n",
        "\n",
        "  print(f'''As categorias e contagem para a coluna {coluna} são:\n",
        "  \n",
        "{dados[coluna].value_counts()}''')\n",
        "\n",
        "def grafCountDados(coluna):\n",
        "  '''Plota um gráfico de barras para as variáveis categóricas da colunas.\n",
        "  '''\n",
        "\n",
        "  plt.figure(figsize=(10,5))\n",
        "  ax = sns.countplot(data=dados, x=coluna, color='royalblue')\n",
        "  ax.set_title(f'{coluna.capitalize()}')\n",
        "  ax.set_ylabel('Contagem')\n",
        "  ax.set_xlabel('Categorias')"
      ],
      "execution_count": 61,
      "outputs": []
    },
    {
      "cell_type": "markdown",
      "metadata": {
        "id": "Y1vbr-FCynhC"
      },
      "source": [
        "# Desafio Final da Imersão Dados - Alura\n",
        "O desafio consiste em construir um projeto de análise exploratória de dados e criar um modelo de *machine learning* para auxiliar a descoberta de novos medicamentos.\n",
        "\n",
        "\n",
        "\n"
      ]
    },
    {
      "cell_type": "markdown",
      "metadata": {
        "id": "MmGyYCjAfoCV"
      },
      "source": [
        "**Conjuntos de dados Utilizados:**  \n",
        "Esse projeto foi inspirado em um desafio do Laboratory innovation science at Harvard disponibilizando os dados em uma competição no kaggle."
      ]
    },
    {
      "cell_type": "code",
      "metadata": {
        "id": "-5-dZnDwUvyG"
      },
      "source": [
        "urlDados      = 'https://github.com/vsuguimoto/imersao-dados-desafio-final/blob/main/Dados/dados_experimentos.zip?raw=true'\n",
        "urlResultados = 'https://github.com/vsuguimoto/imersao-dados-desafio-final/blob/main/Dados/dados_resultados.csv?raw=true'\n",
        "\n",
        "dados = pd.read_csv(urlDados, compression = 'zip')\n",
        "resultados = pd.read_csv(urlResultados)"
      ],
      "execution_count": 62,
      "outputs": []
    },
    {
      "cell_type": "markdown",
      "metadata": {
        "id": "ackJyAAGfZuo"
      },
      "source": [
        "## Exploração Inicial dos Dados\n",
        "Há duas bases de dados que irão ser estudadas.  \n",
        "A primeira delas, nomeada **dados**, possui informações a respeito das influências nas expressões gênicas e grupo de células de acordo com a droga, dosagem e tempo de ação.A segunda, nomeada **resultados**, possui informações a respeito do mecanismo de ação, referenciado aqui por MOA, ativado de acordo com a identificação da cultura de células.  \n",
        "A priori faremos uma análise exploratória de cada um dos conjunto de dados:\n"
      ]
    },
    {
      "cell_type": "markdown",
      "metadata": {
        "id": "tz_orpeChNIV"
      },
      "source": [
        "### Análise exploratória dos dados experimentais (dados)"
      ]
    },
    {
      "cell_type": "code",
      "metadata": {
        "colab": {
          "base_uri": "https://localhost:8080/",
          "height": 0
        },
        "id": "audmZQ0wW7pr",
        "outputId": "61f20431-ca28-4384-cd83-aebfe038b06b"
      },
      "source": [
        "dados.head()"
      ],
      "execution_count": 63,
      "outputs": [
        {
          "output_type": "execute_result",
          "data": {
            "text/html": [
              "<div>\n",
              "<style scoped>\n",
              "    .dataframe tbody tr th:only-of-type {\n",
              "        vertical-align: middle;\n",
              "    }\n",
              "\n",
              "    .dataframe tbody tr th {\n",
              "        vertical-align: top;\n",
              "    }\n",
              "\n",
              "    .dataframe thead th {\n",
              "        text-align: right;\n",
              "    }\n",
              "</style>\n",
              "<table border=\"1\" class=\"dataframe\">\n",
              "  <thead>\n",
              "    <tr style=\"text-align: right;\">\n",
              "      <th></th>\n",
              "      <th>id</th>\n",
              "      <th>tratamento</th>\n",
              "      <th>tempo</th>\n",
              "      <th>dose</th>\n",
              "      <th>droga</th>\n",
              "      <th>g-0</th>\n",
              "      <th>g-1</th>\n",
              "      <th>g-2</th>\n",
              "      <th>g-3</th>\n",
              "      <th>g-4</th>\n",
              "      <th>g-5</th>\n",
              "      <th>g-6</th>\n",
              "      <th>g-7</th>\n",
              "      <th>g-8</th>\n",
              "      <th>g-9</th>\n",
              "      <th>g-10</th>\n",
              "      <th>g-11</th>\n",
              "      <th>g-12</th>\n",
              "      <th>g-13</th>\n",
              "      <th>g-14</th>\n",
              "      <th>g-15</th>\n",
              "      <th>g-16</th>\n",
              "      <th>g-17</th>\n",
              "      <th>g-18</th>\n",
              "      <th>g-19</th>\n",
              "      <th>g-20</th>\n",
              "      <th>g-21</th>\n",
              "      <th>g-22</th>\n",
              "      <th>g-23</th>\n",
              "      <th>g-24</th>\n",
              "      <th>g-25</th>\n",
              "      <th>g-26</th>\n",
              "      <th>g-27</th>\n",
              "      <th>g-28</th>\n",
              "      <th>g-29</th>\n",
              "      <th>g-30</th>\n",
              "      <th>g-31</th>\n",
              "      <th>g-32</th>\n",
              "      <th>g-33</th>\n",
              "      <th>g-34</th>\n",
              "      <th>...</th>\n",
              "      <th>c-60</th>\n",
              "      <th>c-61</th>\n",
              "      <th>c-62</th>\n",
              "      <th>c-63</th>\n",
              "      <th>c-64</th>\n",
              "      <th>c-65</th>\n",
              "      <th>c-66</th>\n",
              "      <th>c-67</th>\n",
              "      <th>c-68</th>\n",
              "      <th>c-69</th>\n",
              "      <th>c-70</th>\n",
              "      <th>c-71</th>\n",
              "      <th>c-72</th>\n",
              "      <th>c-73</th>\n",
              "      <th>c-74</th>\n",
              "      <th>c-75</th>\n",
              "      <th>c-76</th>\n",
              "      <th>c-77</th>\n",
              "      <th>c-78</th>\n",
              "      <th>c-79</th>\n",
              "      <th>c-80</th>\n",
              "      <th>c-81</th>\n",
              "      <th>c-82</th>\n",
              "      <th>c-83</th>\n",
              "      <th>c-84</th>\n",
              "      <th>c-85</th>\n",
              "      <th>c-86</th>\n",
              "      <th>c-87</th>\n",
              "      <th>c-88</th>\n",
              "      <th>c-89</th>\n",
              "      <th>c-90</th>\n",
              "      <th>c-91</th>\n",
              "      <th>c-92</th>\n",
              "      <th>c-93</th>\n",
              "      <th>c-94</th>\n",
              "      <th>c-95</th>\n",
              "      <th>c-96</th>\n",
              "      <th>c-97</th>\n",
              "      <th>c-98</th>\n",
              "      <th>c-99</th>\n",
              "    </tr>\n",
              "  </thead>\n",
              "  <tbody>\n",
              "    <tr>\n",
              "      <th>0</th>\n",
              "      <td>id_000644bb2</td>\n",
              "      <td>com_droga</td>\n",
              "      <td>24</td>\n",
              "      <td>D1</td>\n",
              "      <td>b68db1d53</td>\n",
              "      <td>1.0620</td>\n",
              "      <td>0.5577</td>\n",
              "      <td>-0.2479</td>\n",
              "      <td>-0.6208</td>\n",
              "      <td>-0.1944</td>\n",
              "      <td>-1.0120</td>\n",
              "      <td>-1.0220</td>\n",
              "      <td>-0.0326</td>\n",
              "      <td>0.5548</td>\n",
              "      <td>-0.0921</td>\n",
              "      <td>1.1830</td>\n",
              "      <td>0.1530</td>\n",
              "      <td>0.5574</td>\n",
              "      <td>-0.4015</td>\n",
              "      <td>0.1789</td>\n",
              "      <td>-0.6528</td>\n",
              "      <td>-0.7969</td>\n",
              "      <td>0.6342</td>\n",
              "      <td>0.1778</td>\n",
              "      <td>-0.3694</td>\n",
              "      <td>-0.5688</td>\n",
              "      <td>-1.1360</td>\n",
              "      <td>-1.1880</td>\n",
              "      <td>0.6940</td>\n",
              "      <td>0.4393</td>\n",
              "      <td>0.2664</td>\n",
              "      <td>0.1907</td>\n",
              "      <td>0.1628</td>\n",
              "      <td>-0.2853</td>\n",
              "      <td>0.5819</td>\n",
              "      <td>0.2934</td>\n",
              "      <td>-0.5584</td>\n",
              "      <td>-0.0916</td>\n",
              "      <td>-0.3010</td>\n",
              "      <td>-0.1537</td>\n",
              "      <td>...</td>\n",
              "      <td>0.4805</td>\n",
              "      <td>0.4965</td>\n",
              "      <td>0.3680</td>\n",
              "      <td>0.8427</td>\n",
              "      <td>0.1042</td>\n",
              "      <td>0.1403</td>\n",
              "      <td>0.1758</td>\n",
              "      <td>1.2570</td>\n",
              "      <td>-0.5979</td>\n",
              "      <td>1.2250</td>\n",
              "      <td>-0.0553</td>\n",
              "      <td>0.7351</td>\n",
              "      <td>0.5810</td>\n",
              "      <td>0.9590</td>\n",
              "      <td>0.2427</td>\n",
              "      <td>0.0495</td>\n",
              "      <td>0.4141</td>\n",
              "      <td>0.8432</td>\n",
              "      <td>0.6162</td>\n",
              "      <td>-0.7318</td>\n",
              "      <td>1.2120</td>\n",
              "      <td>0.6362</td>\n",
              "      <td>-0.4427</td>\n",
              "      <td>0.1288</td>\n",
              "      <td>1.4840</td>\n",
              "      <td>0.1799</td>\n",
              "      <td>0.5367</td>\n",
              "      <td>-0.1111</td>\n",
              "      <td>-1.0120</td>\n",
              "      <td>0.6685</td>\n",
              "      <td>0.2862</td>\n",
              "      <td>0.2584</td>\n",
              "      <td>0.8076</td>\n",
              "      <td>0.5523</td>\n",
              "      <td>-0.1912</td>\n",
              "      <td>0.6584</td>\n",
              "      <td>-0.3981</td>\n",
              "      <td>0.2139</td>\n",
              "      <td>0.3801</td>\n",
              "      <td>0.4176</td>\n",
              "    </tr>\n",
              "    <tr>\n",
              "      <th>1</th>\n",
              "      <td>id_000779bfc</td>\n",
              "      <td>com_droga</td>\n",
              "      <td>72</td>\n",
              "      <td>D1</td>\n",
              "      <td>df89a8e5a</td>\n",
              "      <td>0.0743</td>\n",
              "      <td>0.4087</td>\n",
              "      <td>0.2991</td>\n",
              "      <td>0.0604</td>\n",
              "      <td>1.0190</td>\n",
              "      <td>0.5207</td>\n",
              "      <td>0.2341</td>\n",
              "      <td>0.3372</td>\n",
              "      <td>-0.4047</td>\n",
              "      <td>0.8507</td>\n",
              "      <td>-1.1520</td>\n",
              "      <td>-0.4201</td>\n",
              "      <td>-0.0958</td>\n",
              "      <td>0.4590</td>\n",
              "      <td>0.0803</td>\n",
              "      <td>0.2250</td>\n",
              "      <td>0.5293</td>\n",
              "      <td>0.2839</td>\n",
              "      <td>-0.3494</td>\n",
              "      <td>0.2883</td>\n",
              "      <td>0.9449</td>\n",
              "      <td>-0.1646</td>\n",
              "      <td>-0.2657</td>\n",
              "      <td>-0.3372</td>\n",
              "      <td>0.3135</td>\n",
              "      <td>-0.4316</td>\n",
              "      <td>0.4773</td>\n",
              "      <td>0.2075</td>\n",
              "      <td>-0.4216</td>\n",
              "      <td>-0.1161</td>\n",
              "      <td>-0.0499</td>\n",
              "      <td>-0.2627</td>\n",
              "      <td>0.9959</td>\n",
              "      <td>-0.2483</td>\n",
              "      <td>0.2655</td>\n",
              "      <td>...</td>\n",
              "      <td>0.4083</td>\n",
              "      <td>0.0319</td>\n",
              "      <td>0.3905</td>\n",
              "      <td>0.7099</td>\n",
              "      <td>0.2912</td>\n",
              "      <td>0.4151</td>\n",
              "      <td>-0.2840</td>\n",
              "      <td>-0.3104</td>\n",
              "      <td>-0.6373</td>\n",
              "      <td>0.2887</td>\n",
              "      <td>-0.0765</td>\n",
              "      <td>0.2539</td>\n",
              "      <td>0.4443</td>\n",
              "      <td>0.5932</td>\n",
              "      <td>0.2031</td>\n",
              "      <td>0.7639</td>\n",
              "      <td>0.5499</td>\n",
              "      <td>-0.3322</td>\n",
              "      <td>-0.0977</td>\n",
              "      <td>0.4329</td>\n",
              "      <td>-0.2782</td>\n",
              "      <td>0.7827</td>\n",
              "      <td>0.5934</td>\n",
              "      <td>0.3402</td>\n",
              "      <td>0.1499</td>\n",
              "      <td>0.4420</td>\n",
              "      <td>0.9366</td>\n",
              "      <td>0.8193</td>\n",
              "      <td>-0.4236</td>\n",
              "      <td>0.3192</td>\n",
              "      <td>-0.4265</td>\n",
              "      <td>0.7543</td>\n",
              "      <td>0.4708</td>\n",
              "      <td>0.0230</td>\n",
              "      <td>0.2957</td>\n",
              "      <td>0.4899</td>\n",
              "      <td>0.1522</td>\n",
              "      <td>0.1241</td>\n",
              "      <td>0.6077</td>\n",
              "      <td>0.7371</td>\n",
              "    </tr>\n",
              "    <tr>\n",
              "      <th>2</th>\n",
              "      <td>id_000a6266a</td>\n",
              "      <td>com_droga</td>\n",
              "      <td>48</td>\n",
              "      <td>D1</td>\n",
              "      <td>18bb41b2c</td>\n",
              "      <td>0.6280</td>\n",
              "      <td>0.5817</td>\n",
              "      <td>1.5540</td>\n",
              "      <td>-0.0764</td>\n",
              "      <td>-0.0323</td>\n",
              "      <td>1.2390</td>\n",
              "      <td>0.1715</td>\n",
              "      <td>0.2155</td>\n",
              "      <td>0.0065</td>\n",
              "      <td>1.2300</td>\n",
              "      <td>-0.4797</td>\n",
              "      <td>-0.5631</td>\n",
              "      <td>-0.0366</td>\n",
              "      <td>-1.8300</td>\n",
              "      <td>0.6057</td>\n",
              "      <td>-0.3278</td>\n",
              "      <td>0.6042</td>\n",
              "      <td>-0.3075</td>\n",
              "      <td>-0.1147</td>\n",
              "      <td>-0.0570</td>\n",
              "      <td>-0.0799</td>\n",
              "      <td>-0.8181</td>\n",
              "      <td>-1.5320</td>\n",
              "      <td>0.2307</td>\n",
              "      <td>0.4901</td>\n",
              "      <td>0.4780</td>\n",
              "      <td>-1.3970</td>\n",
              "      <td>4.6240</td>\n",
              "      <td>-0.0437</td>\n",
              "      <td>1.2870</td>\n",
              "      <td>-1.8530</td>\n",
              "      <td>0.6069</td>\n",
              "      <td>0.4290</td>\n",
              "      <td>0.1783</td>\n",
              "      <td>0.0018</td>\n",
              "      <td>...</td>\n",
              "      <td>-0.5477</td>\n",
              "      <td>-0.7576</td>\n",
              "      <td>-0.0444</td>\n",
              "      <td>0.1894</td>\n",
              "      <td>-0.0014</td>\n",
              "      <td>-2.3640</td>\n",
              "      <td>-0.4682</td>\n",
              "      <td>0.1210</td>\n",
              "      <td>-0.5177</td>\n",
              "      <td>-0.0604</td>\n",
              "      <td>0.1682</td>\n",
              "      <td>-0.4436</td>\n",
              "      <td>0.4963</td>\n",
              "      <td>0.1363</td>\n",
              "      <td>0.3335</td>\n",
              "      <td>0.9760</td>\n",
              "      <td>-0.0427</td>\n",
              "      <td>-0.1235</td>\n",
              "      <td>0.0959</td>\n",
              "      <td>0.0690</td>\n",
              "      <td>-0.9416</td>\n",
              "      <td>-0.7548</td>\n",
              "      <td>-0.1109</td>\n",
              "      <td>-0.6272</td>\n",
              "      <td>0.3019</td>\n",
              "      <td>0.1172</td>\n",
              "      <td>0.1093</td>\n",
              "      <td>-0.3113</td>\n",
              "      <td>0.3019</td>\n",
              "      <td>-0.0873</td>\n",
              "      <td>-0.7250</td>\n",
              "      <td>-0.6297</td>\n",
              "      <td>0.6103</td>\n",
              "      <td>0.0223</td>\n",
              "      <td>-1.3240</td>\n",
              "      <td>-0.3174</td>\n",
              "      <td>-0.6417</td>\n",
              "      <td>-0.2187</td>\n",
              "      <td>-1.4080</td>\n",
              "      <td>0.6931</td>\n",
              "    </tr>\n",
              "    <tr>\n",
              "      <th>3</th>\n",
              "      <td>id_0015fd391</td>\n",
              "      <td>com_droga</td>\n",
              "      <td>48</td>\n",
              "      <td>D1</td>\n",
              "      <td>8c7f86626</td>\n",
              "      <td>-0.5138</td>\n",
              "      <td>-0.2491</td>\n",
              "      <td>-0.2656</td>\n",
              "      <td>0.5288</td>\n",
              "      <td>4.0620</td>\n",
              "      <td>-0.8095</td>\n",
              "      <td>-1.9590</td>\n",
              "      <td>0.1792</td>\n",
              "      <td>-0.1321</td>\n",
              "      <td>-1.0600</td>\n",
              "      <td>-0.8269</td>\n",
              "      <td>-0.3584</td>\n",
              "      <td>-0.8511</td>\n",
              "      <td>-0.5844</td>\n",
              "      <td>-2.5690</td>\n",
              "      <td>0.8183</td>\n",
              "      <td>-0.0532</td>\n",
              "      <td>-0.8554</td>\n",
              "      <td>0.1160</td>\n",
              "      <td>-2.3520</td>\n",
              "      <td>2.1200</td>\n",
              "      <td>-1.1580</td>\n",
              "      <td>-0.7191</td>\n",
              "      <td>-0.8004</td>\n",
              "      <td>-1.4670</td>\n",
              "      <td>-0.0107</td>\n",
              "      <td>-0.8995</td>\n",
              "      <td>0.2406</td>\n",
              "      <td>-0.2479</td>\n",
              "      <td>-1.0890</td>\n",
              "      <td>-0.7575</td>\n",
              "      <td>0.0881</td>\n",
              "      <td>-2.7370</td>\n",
              "      <td>0.8745</td>\n",
              "      <td>0.5787</td>\n",
              "      <td>...</td>\n",
              "      <td>-2.1220</td>\n",
              "      <td>-0.3752</td>\n",
              "      <td>-2.3820</td>\n",
              "      <td>-3.7350</td>\n",
              "      <td>-2.9740</td>\n",
              "      <td>-1.4930</td>\n",
              "      <td>-1.6600</td>\n",
              "      <td>-3.1660</td>\n",
              "      <td>0.2816</td>\n",
              "      <td>-0.2990</td>\n",
              "      <td>-1.1870</td>\n",
              "      <td>-0.5044</td>\n",
              "      <td>-1.7750</td>\n",
              "      <td>-1.6120</td>\n",
              "      <td>-0.9215</td>\n",
              "      <td>-1.0810</td>\n",
              "      <td>-3.0520</td>\n",
              "      <td>-3.4470</td>\n",
              "      <td>-2.7740</td>\n",
              "      <td>-1.8460</td>\n",
              "      <td>-0.5568</td>\n",
              "      <td>-3.3960</td>\n",
              "      <td>-2.9510</td>\n",
              "      <td>-1.1550</td>\n",
              "      <td>-3.2620</td>\n",
              "      <td>-1.5390</td>\n",
              "      <td>-2.4600</td>\n",
              "      <td>-0.9417</td>\n",
              "      <td>-1.5550</td>\n",
              "      <td>0.2431</td>\n",
              "      <td>-2.0990</td>\n",
              "      <td>-0.6441</td>\n",
              "      <td>-5.6300</td>\n",
              "      <td>-1.3780</td>\n",
              "      <td>-0.8632</td>\n",
              "      <td>-1.2880</td>\n",
              "      <td>-1.6210</td>\n",
              "      <td>-0.8784</td>\n",
              "      <td>-0.3876</td>\n",
              "      <td>-0.8154</td>\n",
              "    </tr>\n",
              "    <tr>\n",
              "      <th>4</th>\n",
              "      <td>id_001626bd3</td>\n",
              "      <td>com_droga</td>\n",
              "      <td>72</td>\n",
              "      <td>D2</td>\n",
              "      <td>7cbed3131</td>\n",
              "      <td>-0.3254</td>\n",
              "      <td>-0.4009</td>\n",
              "      <td>0.9700</td>\n",
              "      <td>0.6919</td>\n",
              "      <td>1.4180</td>\n",
              "      <td>-0.8244</td>\n",
              "      <td>-0.2800</td>\n",
              "      <td>-0.1498</td>\n",
              "      <td>-0.8789</td>\n",
              "      <td>0.8630</td>\n",
              "      <td>-0.2219</td>\n",
              "      <td>-0.5121</td>\n",
              "      <td>-0.9577</td>\n",
              "      <td>1.1750</td>\n",
              "      <td>0.2042</td>\n",
              "      <td>0.1970</td>\n",
              "      <td>0.1244</td>\n",
              "      <td>-1.7090</td>\n",
              "      <td>-0.3543</td>\n",
              "      <td>-0.5160</td>\n",
              "      <td>-0.3330</td>\n",
              "      <td>-0.2685</td>\n",
              "      <td>0.7649</td>\n",
              "      <td>0.2057</td>\n",
              "      <td>1.3720</td>\n",
              "      <td>0.6835</td>\n",
              "      <td>0.8056</td>\n",
              "      <td>-0.3754</td>\n",
              "      <td>-1.2090</td>\n",
              "      <td>0.2965</td>\n",
              "      <td>-0.0712</td>\n",
              "      <td>0.6389</td>\n",
              "      <td>0.6674</td>\n",
              "      <td>-0.0783</td>\n",
              "      <td>1.1740</td>\n",
              "      <td>...</td>\n",
              "      <td>-0.2274</td>\n",
              "      <td>0.3215</td>\n",
              "      <td>0.1535</td>\n",
              "      <td>-0.4640</td>\n",
              "      <td>-0.5943</td>\n",
              "      <td>0.3973</td>\n",
              "      <td>0.1500</td>\n",
              "      <td>0.5178</td>\n",
              "      <td>0.5159</td>\n",
              "      <td>0.6091</td>\n",
              "      <td>0.1813</td>\n",
              "      <td>-0.4249</td>\n",
              "      <td>0.7832</td>\n",
              "      <td>0.6529</td>\n",
              "      <td>0.5648</td>\n",
              "      <td>0.4817</td>\n",
              "      <td>0.0587</td>\n",
              "      <td>0.5303</td>\n",
              "      <td>0.6376</td>\n",
              "      <td>-0.3966</td>\n",
              "      <td>-1.4950</td>\n",
              "      <td>-0.9625</td>\n",
              "      <td>-0.0541</td>\n",
              "      <td>0.6273</td>\n",
              "      <td>0.4563</td>\n",
              "      <td>0.0698</td>\n",
              "      <td>0.8134</td>\n",
              "      <td>0.1924</td>\n",
              "      <td>0.6054</td>\n",
              "      <td>-0.1824</td>\n",
              "      <td>0.0042</td>\n",
              "      <td>0.0048</td>\n",
              "      <td>0.6670</td>\n",
              "      <td>1.0690</td>\n",
              "      <td>0.5523</td>\n",
              "      <td>-0.3031</td>\n",
              "      <td>0.1094</td>\n",
              "      <td>0.2885</td>\n",
              "      <td>-0.3786</td>\n",
              "      <td>0.7125</td>\n",
              "    </tr>\n",
              "  </tbody>\n",
              "</table>\n",
              "<p>5 rows × 877 columns</p>\n",
              "</div>"
            ],
            "text/plain": [
              "             id tratamento  tempo dose  ...    c-96    c-97    c-98    c-99\n",
              "0  id_000644bb2  com_droga     24   D1  ... -0.3981  0.2139  0.3801  0.4176\n",
              "1  id_000779bfc  com_droga     72   D1  ...  0.1522  0.1241  0.6077  0.7371\n",
              "2  id_000a6266a  com_droga     48   D1  ... -0.6417 -0.2187 -1.4080  0.6931\n",
              "3  id_0015fd391  com_droga     48   D1  ... -1.6210 -0.8784 -0.3876 -0.8154\n",
              "4  id_001626bd3  com_droga     72   D2  ...  0.1094  0.2885 -0.3786  0.7125\n",
              "\n",
              "[5 rows x 877 columns]"
            ]
          },
          "metadata": {
            "tags": []
          },
          "execution_count": 63
        }
      ]
    },
    {
      "cell_type": "code",
      "metadata": {
        "colab": {
          "base_uri": "https://localhost:8080/"
        },
        "id": "_odU_F9GVC-U",
        "outputId": "1846f7c1-d6df-4156-85a6-b0236424ec97"
      },
      "source": [
        "linhas, colunas = dados.shape\n",
        "print(f'O dataset possui {linhas} linhas e {colunas} colunas.')"
      ],
      "execution_count": 64,
      "outputs": [
        {
          "output_type": "stream",
          "text": [
            "O dataset possui 23814 linhas e 877 colunas.\n"
          ],
          "name": "stdout"
        }
      ]
    },
    {
      "cell_type": "code",
      "metadata": {
        "colab": {
          "base_uri": "https://localhost:8080/",
          "height": 0
        },
        "id": "L1KsQKQUln5P",
        "outputId": "3d77efa6-2c3b-4caf-dabe-e3e9630dc72e"
      },
      "source": [
        "grafCountDados('tempo') \n",
        "informacoesDados('tempo')"
      ],
      "execution_count": 65,
      "outputs": [
        {
          "output_type": "stream",
          "text": [
            "As categorias e contagem para a coluna tempo são:\n",
            "  \n",
            "48    8250\n",
            "72    7792\n",
            "24    7772\n",
            "Name: tempo, dtype: int64\n"
          ],
          "name": "stdout"
        },
        {
          "output_type": "display_data",
          "data": {
            "image/png": "[encoded data removed]",
            "text/plain": [
              "<Figure size 720x360 with 1 Axes>"
            ]
          },
          "metadata": {
            "tags": []
          }
        }
      ]
    },
    {
      "cell_type": "code",
      "metadata": {
        "colab": {
          "base_uri": "https://localhost:8080/",
          "height": 0
        },
        "id": "CbovavoDlq5u",
        "outputId": "916cfe2d-824b-4c40-bc28-33821d9c276e"
      },
      "source": [
        "grafCountDados('dose')\n",
        "informacoesDados('dose')"
      ],
      "execution_count": 66,
      "outputs": [
        {
          "output_type": "stream",
          "text": [
            "As categorias e contagem para a coluna dose são:\n",
            "  \n",
            "D1    12147\n",
            "D2    11667\n",
            "Name: dose, dtype: int64\n"
          ],
          "name": "stdout"
        },
        {
          "output_type": "display_data",
          "data": {
            "image/png": "[encoded data removed]",
            "text/plain": [
              "<Figure size 720x360 with 1 Axes>"
            ]
          },
          "metadata": {
            "tags": []
          }
        }
      ]
    },
    {
      "cell_type": "code",
      "metadata": {
        "colab": {
          "base_uri": "https://localhost:8080/",
          "height": 0
        },
        "id": "kYMpyWIimzUf",
        "outputId": "2e1e0adc-5ac4-4edb-c504-e014f41becf8"
      },
      "source": [
        "grafCountDados('tratamento')\n",
        "informacoesDados('tratamento')"
      ],
      "execution_count": 67,
      "outputs": [
        {
          "output_type": "stream",
          "text": [
            "As categorias e contagem para a coluna tratamento são:\n",
            "  \n",
            "com_droga       21948\n",
            "com_controle     1866\n",
            "Name: tratamento, dtype: int64\n"
          ],
          "name": "stdout"
        },
        {
          "output_type": "display_data",
          "data": {
            "image/png": "[encoded data removed]",
            "text/plain": [
              "<Figure size 720x360 with 1 Axes>"
            ]
          },
          "metadata": {
            "tags": []
          }
        }
      ]
    },
    {
      "cell_type": "code",
      "metadata": {
        "colab": {
          "base_uri": "https://localhost:8080/"
        },
        "id": "v-sWU4Z5lwXJ",
        "outputId": "28908971-54aa-489a-8620-c28b0e87f7d9"
      },
      "source": [
        "informacoesDados('droga')"
      ],
      "execution_count": 68,
      "outputs": [
        {
          "output_type": "stream",
          "text": [
            "As categorias e contagem para a coluna droga são:\n",
            "  \n",
            "cacb2b860    1866\n",
            "87d714366     718\n",
            "9f80f3f77     246\n",
            "8b87a7a83     203\n",
            "5628cb3ee     202\n",
            "             ... \n",
            "fb8a93a83       1\n",
            "36dc71f82       1\n",
            "06787fefe       1\n",
            "35519ef6d       1\n",
            "c7e535136       1\n",
            "Name: droga, Length: 3289, dtype: int64\n"
          ],
          "name": "stdout"
        }
      ]
    },
    {
      "cell_type": "markdown",
      "metadata": {
        "id": "sLJel5ZemiWw"
      },
      "source": [
        "Repare que a há várias drogas sendo testadas ao mesmo tempo, algumas delas possuem apenas um teste. Outro ponto é que a droga \"_cacb2b860_\" foi testada o mesmo número de vezes que o tamanho do grupo de controle. Iremos confirmar que tal droga representa o placebo."
      ]
    },
    {
      "cell_type": "code",
      "metadata": {
        "colab": {
          "base_uri": "https://localhost:8080/"
        },
        "id": "WFnnzjzvnVIc",
        "outputId": "ee72c5ff-3331-4b92-d84a-803dd277f47a"
      },
      "source": [
        "all(dados.query('tratamento == \"com_controle\"') == dados.query('droga == \"cacb2b860\"'))"
      ],
      "execution_count": 69,
      "outputs": [
        {
          "output_type": "execute_result",
          "data": {
            "text/plain": [
              "True"
            ]
          },
          "metadata": {
            "tags": []
          },
          "execution_count": 69
        }
      ]
    },
    {
      "cell_type": "code",
      "metadata": {
        "colab": {
          "base_uri": "https://localhost:8080/"
        },
        "id": "xkkGFlwir1SZ",
        "outputId": "2c040705-57a8-4639-8377-42e986336844"
      },
      "source": [
        "dados.loc[:, 'g-0'].describe()\n"
      ],
      "execution_count": 70,
      "outputs": [
        {
          "output_type": "execute_result",
          "data": {
            "text/plain": [
              "count    23814.000000\n",
              "mean         0.248366\n",
              "std          1.393399\n",
              "min         -5.513000\n",
              "25%         -0.473075\n",
              "50%         -0.008850\n",
              "75%          0.525700\n",
              "max         10.000000\n",
              "Name: g-0, dtype: float64"
            ]
          },
          "metadata": {
            "tags": []
          },
          "execution_count": 70
        }
      ]
    },
    {
      "cell_type": "code",
      "metadata": {
        "colab": {
          "base_uri": "https://localhost:8080/"
        },
        "id": "UmFp2JMtslTq",
        "outputId": "7a6a0b26-71fc-4b2c-e23e-27e5c171fbcb"
      },
      "source": [
        "minGen = dados.loc[:, 'g-0':'g-771'].min().min()\n",
        "maxGen = dados.loc[:, 'g-0':'g-771'].max().max()\n",
        "print(f'As expressões gênicas variam de {minGen} a {maxGen}.')"
      ],
      "execution_count": 71,
      "outputs": [
        {
          "output_type": "stream",
          "text": [
            "As expressões gênicas variam de -10.0 a 10.0.\n"
          ],
          "name": "stdout"
        }
      ]
    },
    {
      "cell_type": "code",
      "metadata": {
        "colab": {
          "base_uri": "https://localhost:8080/"
        },
        "id": "Xw9a8k7Ys2m9",
        "outputId": "45ff3ac1-b22a-4758-a210-717dcdebd5fe"
      },
      "source": [
        "dados.loc[:, 'c-0'].describe()"
      ],
      "execution_count": 72,
      "outputs": [
        {
          "output_type": "execute_result",
          "data": {
            "text/plain": [
              "count    23814.000000\n",
              "mean        -0.355156\n",
              "std          1.752565\n",
              "min        -10.000000\n",
              "25%         -0.549300\n",
              "50%         -0.009000\n",
              "75%          0.448975\n",
              "max          3.365000\n",
              "Name: c-0, dtype: float64"
            ]
          },
          "metadata": {
            "tags": []
          },
          "execution_count": 72
        }
      ]
    },
    {
      "cell_type": "code",
      "metadata": {
        "colab": {
          "base_uri": "https://localhost:8080/"
        },
        "id": "-DqLaG8_s6xd",
        "outputId": "21d3ee9f-8938-498b-e618-bd336aa79c35"
      },
      "source": [
        "minCel = dados.loc[:, 'c-0':'c-99'].min().min()\n",
        "maxCel = dados.loc[:, 'c-0':'c-99'].max().max()\n",
        "print(f'As influencias celulares variam de {minCel} a {maxCel}.')"
      ],
      "execution_count": 73,
      "outputs": [
        {
          "output_type": "stream",
          "text": [
            "As influencias celulares variam de -10.0 a 6.412000000000001.\n"
          ],
          "name": "stdout"
        }
      ]
    },
    {
      "cell_type": "markdown",
      "metadata": {
        "id": "WrmqYdRGfjk6"
      },
      "source": [
        "#### Sobre os Dados\n",
        "O dataset de __Dados__ possui as seguintes colunas:\n",
        " - id\n",
        " : identificação única da cultura de células;\n",
        " - tratamento\n",
        " : categórica entre com_droga e com_controle, distinguindo os grupos do experimento em que foi usado o composto e o placebo, respectivamente;\n",
        " - tempo\n",
        " : quantia em horas em que se tira as medidas após a droga ser aplicada;\n",
        " - dose\n",
        " : categórica entre D1 e D2, distinguindo a dosagem usada.\n",
        " - g0 - g771\n",
        " : expressões gênicas normalizadas, valores contínuos de -10 a 10\n",
        " - c0 - c99\n",
        " : variações nos grupos celulares, valores contínuos de -10 a 6.412.\n",
        "\n",
        "**Nota**: são utilizadas duas funções que se encontram no primeiro tópico deste arquivo."
      ]
    },
    {
      "cell_type": "markdown",
      "metadata": {
        "id": "xW5Fzg4hhtMC"
      },
      "source": [
        "### Análise exploratória dos resultados experimentais (resultados)"
      ]
    },
    {
      "cell_type": "code",
      "metadata": {
        "colab": {
          "base_uri": "https://localhost:8080/",
          "height": 0
        },
        "id": "aPOi5Yh7h0YK",
        "outputId": "7cceb74b-6fd0-4801-b88c-76991090c908"
      },
      "source": [
        "resultados.head()"
      ],
      "execution_count": 74,
      "outputs": [
        {
          "output_type": "execute_result",
          "data": {
            "text/html": [
              "<div>\n",
              "<style scoped>\n",
              "    .dataframe tbody tr th:only-of-type {\n",
              "        vertical-align: middle;\n",
              "    }\n",
              "\n",
              "    .dataframe tbody tr th {\n",
              "        vertical-align: top;\n",
              "    }\n",
              "\n",
              "    .dataframe thead th {\n",
              "        text-align: right;\n",
              "    }\n",
              "</style>\n",
              "<table border=\"1\" class=\"dataframe\">\n",
              "  <thead>\n",
              "    <tr style=\"text-align: right;\">\n",
              "      <th></th>\n",
              "      <th>id</th>\n",
              "      <th>5-alpha_reductase_inhibitor</th>\n",
              "      <th>11-beta-hsd1_inhibitor</th>\n",
              "      <th>acat_inhibitor</th>\n",
              "      <th>acetylcholine_receptor_agonist</th>\n",
              "      <th>acetylcholine_receptor_antagonist</th>\n",
              "      <th>acetylcholinesterase_inhibitor</th>\n",
              "      <th>adenosine_receptor_agonist</th>\n",
              "      <th>adenosine_receptor_antagonist</th>\n",
              "      <th>adenylyl_cyclase_activator</th>\n",
              "      <th>adrenergic_receptor_agonist</th>\n",
              "      <th>adrenergic_receptor_antagonist</th>\n",
              "      <th>akt_inhibitor</th>\n",
              "      <th>aldehyde_dehydrogenase_inhibitor</th>\n",
              "      <th>alk_inhibitor</th>\n",
              "      <th>ampk_activator</th>\n",
              "      <th>analgesic</th>\n",
              "      <th>androgen_receptor_agonist</th>\n",
              "      <th>androgen_receptor_antagonist</th>\n",
              "      <th>anesthetic_-_local</th>\n",
              "      <th>angiogenesis_inhibitor</th>\n",
              "      <th>angiotensin_receptor_antagonist</th>\n",
              "      <th>anti-inflammatory</th>\n",
              "      <th>antiarrhythmic</th>\n",
              "      <th>antibiotic</th>\n",
              "      <th>anticonvulsant</th>\n",
              "      <th>antifungal</th>\n",
              "      <th>antihistamine</th>\n",
              "      <th>antimalarial</th>\n",
              "      <th>antioxidant</th>\n",
              "      <th>antiprotozoal</th>\n",
              "      <th>antiviral</th>\n",
              "      <th>apoptosis_stimulant</th>\n",
              "      <th>aromatase_inhibitor</th>\n",
              "      <th>atm_kinase_inhibitor</th>\n",
              "      <th>atp-sensitive_potassium_channel_antagonist</th>\n",
              "      <th>atp_synthase_inhibitor</th>\n",
              "      <th>atpase_inhibitor</th>\n",
              "      <th>atr_kinase_inhibitor</th>\n",
              "      <th>aurora_kinase_inhibitor</th>\n",
              "      <th>...</th>\n",
              "      <th>protein_synthesis_inhibitor</th>\n",
              "      <th>protein_tyrosine_kinase_inhibitor</th>\n",
              "      <th>radiopaque_medium</th>\n",
              "      <th>raf_inhibitor</th>\n",
              "      <th>ras_gtpase_inhibitor</th>\n",
              "      <th>retinoid_receptor_agonist</th>\n",
              "      <th>retinoid_receptor_antagonist</th>\n",
              "      <th>rho_associated_kinase_inhibitor</th>\n",
              "      <th>ribonucleoside_reductase_inhibitor</th>\n",
              "      <th>rna_polymerase_inhibitor</th>\n",
              "      <th>serotonin_receptor_agonist</th>\n",
              "      <th>serotonin_receptor_antagonist</th>\n",
              "      <th>serotonin_reuptake_inhibitor</th>\n",
              "      <th>sigma_receptor_agonist</th>\n",
              "      <th>sigma_receptor_antagonist</th>\n",
              "      <th>smoothened_receptor_antagonist</th>\n",
              "      <th>sodium_channel_inhibitor</th>\n",
              "      <th>sphingosine_receptor_agonist</th>\n",
              "      <th>src_inhibitor</th>\n",
              "      <th>steroid</th>\n",
              "      <th>syk_inhibitor</th>\n",
              "      <th>tachykinin_antagonist</th>\n",
              "      <th>tgf-beta_receptor_inhibitor</th>\n",
              "      <th>thrombin_inhibitor</th>\n",
              "      <th>thymidylate_synthase_inhibitor</th>\n",
              "      <th>tlr_agonist</th>\n",
              "      <th>tlr_antagonist</th>\n",
              "      <th>tnf_inhibitor</th>\n",
              "      <th>topoisomerase_inhibitor</th>\n",
              "      <th>transient_receptor_potential_channel_antagonist</th>\n",
              "      <th>tropomyosin_receptor_kinase_inhibitor</th>\n",
              "      <th>trpv_agonist</th>\n",
              "      <th>trpv_antagonist</th>\n",
              "      <th>tubulin_inhibitor</th>\n",
              "      <th>tyrosine_kinase_inhibitor</th>\n",
              "      <th>ubiquitin_specific_protease_inhibitor</th>\n",
              "      <th>vegfr_inhibitor</th>\n",
              "      <th>vitamin_b</th>\n",
              "      <th>vitamin_d_receptor_agonist</th>\n",
              "      <th>wnt_inhibitor</th>\n",
              "    </tr>\n",
              "  </thead>\n",
              "  <tbody>\n",
              "    <tr>\n",
              "      <th>0</th>\n",
              "      <td>id_000644bb2</td>\n",
              "      <td>0</td>\n",
              "      <td>0</td>\n",
              "      <td>0</td>\n",
              "      <td>0</td>\n",
              "      <td>0</td>\n",
              "      <td>0</td>\n",
              "      <td>0</td>\n",
              "      <td>0</td>\n",
              "      <td>0</td>\n",
              "      <td>0</td>\n",
              "      <td>0</td>\n",
              "      <td>0</td>\n",
              "      <td>0</td>\n",
              "      <td>0</td>\n",
              "      <td>0</td>\n",
              "      <td>0</td>\n",
              "      <td>0</td>\n",
              "      <td>0</td>\n",
              "      <td>0</td>\n",
              "      <td>0</td>\n",
              "      <td>0</td>\n",
              "      <td>0</td>\n",
              "      <td>0</td>\n",
              "      <td>0</td>\n",
              "      <td>0</td>\n",
              "      <td>0</td>\n",
              "      <td>0</td>\n",
              "      <td>0</td>\n",
              "      <td>0</td>\n",
              "      <td>0</td>\n",
              "      <td>0</td>\n",
              "      <td>0</td>\n",
              "      <td>0</td>\n",
              "      <td>0</td>\n",
              "      <td>0</td>\n",
              "      <td>0</td>\n",
              "      <td>0</td>\n",
              "      <td>0</td>\n",
              "      <td>0</td>\n",
              "      <td>...</td>\n",
              "      <td>0</td>\n",
              "      <td>0</td>\n",
              "      <td>0</td>\n",
              "      <td>0</td>\n",
              "      <td>0</td>\n",
              "      <td>0</td>\n",
              "      <td>0</td>\n",
              "      <td>0</td>\n",
              "      <td>0</td>\n",
              "      <td>0</td>\n",
              "      <td>0</td>\n",
              "      <td>0</td>\n",
              "      <td>0</td>\n",
              "      <td>0</td>\n",
              "      <td>0</td>\n",
              "      <td>0</td>\n",
              "      <td>0</td>\n",
              "      <td>0</td>\n",
              "      <td>0</td>\n",
              "      <td>0</td>\n",
              "      <td>0</td>\n",
              "      <td>0</td>\n",
              "      <td>0</td>\n",
              "      <td>0</td>\n",
              "      <td>0</td>\n",
              "      <td>0</td>\n",
              "      <td>0</td>\n",
              "      <td>0</td>\n",
              "      <td>0</td>\n",
              "      <td>0</td>\n",
              "      <td>0</td>\n",
              "      <td>0</td>\n",
              "      <td>0</td>\n",
              "      <td>0</td>\n",
              "      <td>0</td>\n",
              "      <td>0</td>\n",
              "      <td>0</td>\n",
              "      <td>0</td>\n",
              "      <td>0</td>\n",
              "      <td>0</td>\n",
              "    </tr>\n",
              "    <tr>\n",
              "      <th>1</th>\n",
              "      <td>id_000779bfc</td>\n",
              "      <td>0</td>\n",
              "      <td>0</td>\n",
              "      <td>0</td>\n",
              "      <td>0</td>\n",
              "      <td>0</td>\n",
              "      <td>0</td>\n",
              "      <td>0</td>\n",
              "      <td>0</td>\n",
              "      <td>0</td>\n",
              "      <td>0</td>\n",
              "      <td>0</td>\n",
              "      <td>0</td>\n",
              "      <td>0</td>\n",
              "      <td>0</td>\n",
              "      <td>0</td>\n",
              "      <td>0</td>\n",
              "      <td>0</td>\n",
              "      <td>0</td>\n",
              "      <td>0</td>\n",
              "      <td>0</td>\n",
              "      <td>0</td>\n",
              "      <td>0</td>\n",
              "      <td>0</td>\n",
              "      <td>0</td>\n",
              "      <td>0</td>\n",
              "      <td>0</td>\n",
              "      <td>0</td>\n",
              "      <td>0</td>\n",
              "      <td>0</td>\n",
              "      <td>0</td>\n",
              "      <td>0</td>\n",
              "      <td>0</td>\n",
              "      <td>0</td>\n",
              "      <td>0</td>\n",
              "      <td>0</td>\n",
              "      <td>0</td>\n",
              "      <td>0</td>\n",
              "      <td>0</td>\n",
              "      <td>0</td>\n",
              "      <td>...</td>\n",
              "      <td>0</td>\n",
              "      <td>0</td>\n",
              "      <td>0</td>\n",
              "      <td>0</td>\n",
              "      <td>0</td>\n",
              "      <td>0</td>\n",
              "      <td>0</td>\n",
              "      <td>0</td>\n",
              "      <td>0</td>\n",
              "      <td>0</td>\n",
              "      <td>0</td>\n",
              "      <td>0</td>\n",
              "      <td>0</td>\n",
              "      <td>0</td>\n",
              "      <td>0</td>\n",
              "      <td>0</td>\n",
              "      <td>0</td>\n",
              "      <td>0</td>\n",
              "      <td>0</td>\n",
              "      <td>0</td>\n",
              "      <td>0</td>\n",
              "      <td>0</td>\n",
              "      <td>0</td>\n",
              "      <td>0</td>\n",
              "      <td>0</td>\n",
              "      <td>0</td>\n",
              "      <td>0</td>\n",
              "      <td>0</td>\n",
              "      <td>0</td>\n",
              "      <td>0</td>\n",
              "      <td>0</td>\n",
              "      <td>0</td>\n",
              "      <td>0</td>\n",
              "      <td>0</td>\n",
              "      <td>0</td>\n",
              "      <td>0</td>\n",
              "      <td>0</td>\n",
              "      <td>0</td>\n",
              "      <td>0</td>\n",
              "      <td>0</td>\n",
              "    </tr>\n",
              "    <tr>\n",
              "      <th>2</th>\n",
              "      <td>id_000a6266a</td>\n",
              "      <td>0</td>\n",
              "      <td>0</td>\n",
              "      <td>0</td>\n",
              "      <td>0</td>\n",
              "      <td>0</td>\n",
              "      <td>0</td>\n",
              "      <td>0</td>\n",
              "      <td>0</td>\n",
              "      <td>0</td>\n",
              "      <td>0</td>\n",
              "      <td>0</td>\n",
              "      <td>0</td>\n",
              "      <td>0</td>\n",
              "      <td>0</td>\n",
              "      <td>0</td>\n",
              "      <td>0</td>\n",
              "      <td>0</td>\n",
              "      <td>0</td>\n",
              "      <td>0</td>\n",
              "      <td>0</td>\n",
              "      <td>0</td>\n",
              "      <td>0</td>\n",
              "      <td>0</td>\n",
              "      <td>0</td>\n",
              "      <td>0</td>\n",
              "      <td>0</td>\n",
              "      <td>0</td>\n",
              "      <td>0</td>\n",
              "      <td>0</td>\n",
              "      <td>0</td>\n",
              "      <td>0</td>\n",
              "      <td>0</td>\n",
              "      <td>0</td>\n",
              "      <td>0</td>\n",
              "      <td>0</td>\n",
              "      <td>0</td>\n",
              "      <td>0</td>\n",
              "      <td>0</td>\n",
              "      <td>0</td>\n",
              "      <td>...</td>\n",
              "      <td>0</td>\n",
              "      <td>0</td>\n",
              "      <td>0</td>\n",
              "      <td>0</td>\n",
              "      <td>0</td>\n",
              "      <td>0</td>\n",
              "      <td>0</td>\n",
              "      <td>0</td>\n",
              "      <td>0</td>\n",
              "      <td>0</td>\n",
              "      <td>0</td>\n",
              "      <td>0</td>\n",
              "      <td>0</td>\n",
              "      <td>0</td>\n",
              "      <td>0</td>\n",
              "      <td>0</td>\n",
              "      <td>0</td>\n",
              "      <td>0</td>\n",
              "      <td>0</td>\n",
              "      <td>0</td>\n",
              "      <td>0</td>\n",
              "      <td>0</td>\n",
              "      <td>0</td>\n",
              "      <td>0</td>\n",
              "      <td>0</td>\n",
              "      <td>0</td>\n",
              "      <td>0</td>\n",
              "      <td>0</td>\n",
              "      <td>0</td>\n",
              "      <td>0</td>\n",
              "      <td>0</td>\n",
              "      <td>0</td>\n",
              "      <td>0</td>\n",
              "      <td>0</td>\n",
              "      <td>0</td>\n",
              "      <td>0</td>\n",
              "      <td>0</td>\n",
              "      <td>0</td>\n",
              "      <td>0</td>\n",
              "      <td>0</td>\n",
              "    </tr>\n",
              "    <tr>\n",
              "      <th>3</th>\n",
              "      <td>id_0015fd391</td>\n",
              "      <td>0</td>\n",
              "      <td>0</td>\n",
              "      <td>0</td>\n",
              "      <td>0</td>\n",
              "      <td>0</td>\n",
              "      <td>0</td>\n",
              "      <td>0</td>\n",
              "      <td>0</td>\n",
              "      <td>0</td>\n",
              "      <td>0</td>\n",
              "      <td>0</td>\n",
              "      <td>0</td>\n",
              "      <td>0</td>\n",
              "      <td>0</td>\n",
              "      <td>0</td>\n",
              "      <td>0</td>\n",
              "      <td>0</td>\n",
              "      <td>0</td>\n",
              "      <td>0</td>\n",
              "      <td>0</td>\n",
              "      <td>0</td>\n",
              "      <td>0</td>\n",
              "      <td>0</td>\n",
              "      <td>0</td>\n",
              "      <td>0</td>\n",
              "      <td>0</td>\n",
              "      <td>0</td>\n",
              "      <td>0</td>\n",
              "      <td>0</td>\n",
              "      <td>0</td>\n",
              "      <td>0</td>\n",
              "      <td>0</td>\n",
              "      <td>0</td>\n",
              "      <td>0</td>\n",
              "      <td>0</td>\n",
              "      <td>0</td>\n",
              "      <td>0</td>\n",
              "      <td>0</td>\n",
              "      <td>0</td>\n",
              "      <td>...</td>\n",
              "      <td>0</td>\n",
              "      <td>0</td>\n",
              "      <td>0</td>\n",
              "      <td>0</td>\n",
              "      <td>0</td>\n",
              "      <td>0</td>\n",
              "      <td>0</td>\n",
              "      <td>0</td>\n",
              "      <td>0</td>\n",
              "      <td>0</td>\n",
              "      <td>0</td>\n",
              "      <td>0</td>\n",
              "      <td>0</td>\n",
              "      <td>0</td>\n",
              "      <td>0</td>\n",
              "      <td>0</td>\n",
              "      <td>0</td>\n",
              "      <td>0</td>\n",
              "      <td>0</td>\n",
              "      <td>0</td>\n",
              "      <td>0</td>\n",
              "      <td>0</td>\n",
              "      <td>0</td>\n",
              "      <td>0</td>\n",
              "      <td>0</td>\n",
              "      <td>0</td>\n",
              "      <td>0</td>\n",
              "      <td>0</td>\n",
              "      <td>0</td>\n",
              "      <td>0</td>\n",
              "      <td>0</td>\n",
              "      <td>0</td>\n",
              "      <td>0</td>\n",
              "      <td>0</td>\n",
              "      <td>0</td>\n",
              "      <td>0</td>\n",
              "      <td>0</td>\n",
              "      <td>0</td>\n",
              "      <td>0</td>\n",
              "      <td>0</td>\n",
              "    </tr>\n",
              "    <tr>\n",
              "      <th>4</th>\n",
              "      <td>id_001626bd3</td>\n",
              "      <td>0</td>\n",
              "      <td>0</td>\n",
              "      <td>0</td>\n",
              "      <td>0</td>\n",
              "      <td>0</td>\n",
              "      <td>0</td>\n",
              "      <td>0</td>\n",
              "      <td>0</td>\n",
              "      <td>0</td>\n",
              "      <td>0</td>\n",
              "      <td>0</td>\n",
              "      <td>0</td>\n",
              "      <td>0</td>\n",
              "      <td>0</td>\n",
              "      <td>0</td>\n",
              "      <td>0</td>\n",
              "      <td>0</td>\n",
              "      <td>0</td>\n",
              "      <td>0</td>\n",
              "      <td>0</td>\n",
              "      <td>0</td>\n",
              "      <td>0</td>\n",
              "      <td>0</td>\n",
              "      <td>0</td>\n",
              "      <td>0</td>\n",
              "      <td>0</td>\n",
              "      <td>0</td>\n",
              "      <td>0</td>\n",
              "      <td>0</td>\n",
              "      <td>0</td>\n",
              "      <td>0</td>\n",
              "      <td>0</td>\n",
              "      <td>0</td>\n",
              "      <td>0</td>\n",
              "      <td>0</td>\n",
              "      <td>0</td>\n",
              "      <td>0</td>\n",
              "      <td>0</td>\n",
              "      <td>0</td>\n",
              "      <td>...</td>\n",
              "      <td>0</td>\n",
              "      <td>0</td>\n",
              "      <td>0</td>\n",
              "      <td>0</td>\n",
              "      <td>0</td>\n",
              "      <td>0</td>\n",
              "      <td>0</td>\n",
              "      <td>0</td>\n",
              "      <td>0</td>\n",
              "      <td>0</td>\n",
              "      <td>0</td>\n",
              "      <td>0</td>\n",
              "      <td>0</td>\n",
              "      <td>0</td>\n",
              "      <td>0</td>\n",
              "      <td>0</td>\n",
              "      <td>0</td>\n",
              "      <td>0</td>\n",
              "      <td>0</td>\n",
              "      <td>0</td>\n",
              "      <td>0</td>\n",
              "      <td>0</td>\n",
              "      <td>0</td>\n",
              "      <td>0</td>\n",
              "      <td>0</td>\n",
              "      <td>0</td>\n",
              "      <td>0</td>\n",
              "      <td>0</td>\n",
              "      <td>0</td>\n",
              "      <td>0</td>\n",
              "      <td>0</td>\n",
              "      <td>0</td>\n",
              "      <td>0</td>\n",
              "      <td>0</td>\n",
              "      <td>0</td>\n",
              "      <td>0</td>\n",
              "      <td>0</td>\n",
              "      <td>0</td>\n",
              "      <td>0</td>\n",
              "      <td>0</td>\n",
              "    </tr>\n",
              "  </tbody>\n",
              "</table>\n",
              "<p>5 rows × 207 columns</p>\n",
              "</div>"
            ],
            "text/plain": [
              "             id  ...  wnt_inhibitor\n",
              "0  id_000644bb2  ...              0\n",
              "1  id_000779bfc  ...              0\n",
              "2  id_000a6266a  ...              0\n",
              "3  id_0015fd391  ...              0\n",
              "4  id_001626bd3  ...              0\n",
              "\n",
              "[5 rows x 207 columns]"
            ]
          },
          "metadata": {
            "tags": []
          },
          "execution_count": 74
        }
      ]
    },
    {
      "cell_type": "code",
      "metadata": {
        "colab": {
          "base_uri": "https://localhost:8080/"
        },
        "id": "CKYA2sTo9Mw4",
        "outputId": "f93159cb-9657-4f02-e20d-5f4ab4fc835c"
      },
      "source": [
        "linhasR, colunasR = resultados.shape\n",
        "print(f'O dataset possui {linhasR} linhas e {colunasR} colunas.')"
      ],
      "execution_count": 75,
      "outputs": [
        {
          "output_type": "stream",
          "text": [
            "O dataset possui 23814 linhas e 207 colunas.\n"
          ],
          "name": "stdout"
        }
      ]
    },
    {
      "cell_type": "code",
      "metadata": {
        "colab": {
          "base_uri": "https://localhost:8080/"
        },
        "id": "koeTnjGvw6ZN",
        "outputId": "0241a026-ff90-4bde-cf58-1b2416e45614"
      },
      "source": [
        "resultados.iloc[:, 1].unique()"
      ],
      "execution_count": 76,
      "outputs": [
        {
          "output_type": "execute_result",
          "data": {
            "text/plain": [
              "array([0, 1])"
            ]
          },
          "metadata": {
            "tags": []
          },
          "execution_count": 76
        }
      ]
    },
    {
      "cell_type": "code",
      "metadata": {
        "colab": {
          "base_uri": "https://localhost:8080/",
          "height": 0
        },
        "id": "VttqCer378Pq",
        "outputId": "3a086404-ad1c-45ff-be6b-787953903d03"
      },
      "source": [
        "acoes = pd.DataFrame([x.split('_')[-1] for x in resultados.drop('id', axis=1).columns], columns = ['acao'])\n",
        "acoes = pd.DataFrame(acoes.value_counts(), columns = ['count']).reset_index()\n",
        "acoes.head()"
      ],
      "execution_count": 77,
      "outputs": [
        {
          "output_type": "execute_result",
          "data": {
            "text/html": [
              "<div>\n",
              "<style scoped>\n",
              "    .dataframe tbody tr th:only-of-type {\n",
              "        vertical-align: middle;\n",
              "    }\n",
              "\n",
              "    .dataframe tbody tr th {\n",
              "        vertical-align: top;\n",
              "    }\n",
              "\n",
              "    .dataframe thead th {\n",
              "        text-align: right;\n",
              "    }\n",
              "</style>\n",
              "<table border=\"1\" class=\"dataframe\">\n",
              "  <thead>\n",
              "    <tr style=\"text-align: right;\">\n",
              "      <th></th>\n",
              "      <th>acao</th>\n",
              "      <th>count</th>\n",
              "    </tr>\n",
              "  </thead>\n",
              "  <tbody>\n",
              "    <tr>\n",
              "      <th>0</th>\n",
              "      <td>inhibitor</td>\n",
              "      <td>112</td>\n",
              "    </tr>\n",
              "    <tr>\n",
              "      <th>1</th>\n",
              "      <td>antagonist</td>\n",
              "      <td>32</td>\n",
              "    </tr>\n",
              "    <tr>\n",
              "      <th>2</th>\n",
              "      <td>agonist</td>\n",
              "      <td>28</td>\n",
              "    </tr>\n",
              "    <tr>\n",
              "      <th>3</th>\n",
              "      <td>activator</td>\n",
              "      <td>5</td>\n",
              "    </tr>\n",
              "    <tr>\n",
              "      <th>4</th>\n",
              "      <td>agent</td>\n",
              "      <td>3</td>\n",
              "    </tr>\n",
              "  </tbody>\n",
              "</table>\n",
              "</div>"
            ],
            "text/plain": [
              "         acao  count\n",
              "0   inhibitor    112\n",
              "1  antagonist     32\n",
              "2     agonist     28\n",
              "3   activator      5\n",
              "4       agent      3"
            ]
          },
          "metadata": {
            "tags": []
          },
          "execution_count": 77
        }
      ]
    },
    {
      "cell_type": "markdown",
      "metadata": {
        "id": "Gsdb4Wy68heK"
      },
      "source": [
        "#### Sobre os Dados\n",
        "O dataset de **resultados** possui várias colunas:\n",
        " - id\n",
        " : identificação única do objeto de estudo\n",
        " - MOAs (Mecânismos de ação)\n",
        " : são 206 MOAs, possuem valores de 0 e 1, significando a não ativação e ativação do mecanismo, respectivamente, para cada valor."
      ]
    },
    {
      "cell_type": "markdown",
      "metadata": {
        "id": "wbtpOmWBVDSN"
      },
      "source": [
        "## Hipótese Inicial\n",
        " Como há diversos compostos e muitos com poucos dados (apenas uma entrada/teste), é possível que tais entradas influenciem negativamente na acurácia do modelo justamente pela falta de dados.\n",
        "\n",
        "## Objetivos\n",
        " 1. Visualizar a influência das variáveis tempo e dose na ativação de algum mecanismo e ação para os compostos mais utilizados no experimento. \n",
        " 2. Criar um modelo de previsão de ativação de ao menos um mecânismo de ação para as drogas mais utilizados.\n",
        " 3. Verificar se ele é superior a um modelo \"dummy\" e a um modelo com todos os dados. "
      ]
    },
    {
      "cell_type": "markdown",
      "metadata": {
        "id": "Anp4IXv19rZ8"
      },
      "source": [
        "### Organização dos Dados\n"
      ]
    },
    {
      "cell_type": "markdown",
      "metadata": {
        "id": "S-k4rgwL60CY"
      },
      "source": [
        "Pretende-se verificar a ativação de algum mecanismo de ação, portanto cria-se duas novas colunas:   \n",
        " - n_moa: referente a quantia de MOAs ativados para aquele ID;  \n",
        " - ativo_moa: verifica se algum MOA foi ativado."
      ]
    },
    {
      "cell_type": "code",
      "metadata": {
        "id": "kaks3pD1DfjH"
      },
      "source": [
        "resultados['n_moa'] = resultados.drop('id', axis = 1).sum(axis = 1)\n",
        "resultados['ativo_moa'] = (resultados['n_moa'] != 0)"
      ],
      "execution_count": 78,
      "outputs": []
    },
    {
      "cell_type": "markdown",
      "metadata": {
        "id": "OwKZVhs97hv-"
      },
      "source": [
        "Combina-se as colunas \"n_moa\" e \"ativo_moa\" com o dataset \"dados\" formando o dataset \"combinados\""
      ]
    },
    {
      "cell_type": "code",
      "metadata": {
        "id": "QzGJzt0YEV1q"
      },
      "source": [
        "combinados = pd.merge(dados, resultados[['id','n_moa', 'ativo_moa']], on = 'id')"
      ],
      "execution_count": 79,
      "outputs": []
    },
    {
      "cell_type": "markdown",
      "metadata": {
        "id": "1g2EZWCM-pmn"
      },
      "source": [
        "Sabe-se que a droga mais testada é o placebo, repare na queda dos testes a partir da 8ª droga. Para o modelo e análise serão usados apenas as drogas com mais de 30 testes."
      ]
    },
    {
      "cell_type": "code",
      "metadata": {
        "colab": {
          "base_uri": "https://localhost:8080/"
        },
        "id": "iHWblJBGVD2S",
        "outputId": "47e910cd-2c79-4e14-9d9d-964934f2a1a0"
      },
      "source": [
        "dados['droga'].value_counts()[0:11]"
      ],
      "execution_count": 80,
      "outputs": [
        {
          "output_type": "execute_result",
          "data": {
            "text/plain": [
              "cacb2b860    1866\n",
              "87d714366     718\n",
              "9f80f3f77     246\n",
              "8b87a7a83     203\n",
              "5628cb3ee     202\n",
              "d08af5d4b     196\n",
              "292ab2c28     194\n",
              "d50f18348     186\n",
              "d1b47f29d     178\n",
              "67c879e79      19\n",
              "d488d031d      18\n",
              "Name: droga, dtype: int64"
            ]
          },
          "metadata": {
            "tags": []
          },
          "execution_count": 80
        }
      ]
    },
    {
      "cell_type": "markdown",
      "metadata": {
        "id": "GH3Xd6cw8WIM"
      },
      "source": [
        "Cria-se uma máscara de acordo com as restrições acima."
      ]
    },
    {
      "cell_type": "code",
      "metadata": {
        "id": "pDCON8-dwEI7"
      },
      "source": [
        "maskDados = list(dados['droga'].value_counts()[0:9].index)\n",
        "\n",
        "combinadosM = combinados.query('droga in @maskDados')"
      ],
      "execution_count": 81,
      "outputs": []
    },
    {
      "cell_type": "markdown",
      "metadata": {
        "id": "LOs2ZOiQ8UP4"
      },
      "source": [
        "Resultando na tabela \"combinadosM\"."
      ]
    },
    {
      "cell_type": "code",
      "metadata": {
        "colab": {
          "base_uri": "https://localhost:8080/",
          "height": 0
        },
        "id": "tJAGHnX0BKju",
        "outputId": "5473766d-1e92-4038-fa8b-d5fca82fb69d"
      },
      "source": [
        "combinadosM.head()"
      ],
      "execution_count": 82,
      "outputs": [
        {
          "output_type": "execute_result",
          "data": {
            "text/html": [
              "<div>\n",
              "<style scoped>\n",
              "    .dataframe tbody tr th:only-of-type {\n",
              "        vertical-align: middle;\n",
              "    }\n",
              "\n",
              "    .dataframe tbody tr th {\n",
              "        vertical-align: top;\n",
              "    }\n",
              "\n",
              "    .dataframe thead th {\n",
              "        text-align: right;\n",
              "    }\n",
              "</style>\n",
              "<table border=\"1\" class=\"dataframe\">\n",
              "  <thead>\n",
              "    <tr style=\"text-align: right;\">\n",
              "      <th></th>\n",
              "      <th>id</th>\n",
              "      <th>tratamento</th>\n",
              "      <th>tempo</th>\n",
              "      <th>dose</th>\n",
              "      <th>droga</th>\n",
              "      <th>g-0</th>\n",
              "      <th>g-1</th>\n",
              "      <th>g-2</th>\n",
              "      <th>g-3</th>\n",
              "      <th>g-4</th>\n",
              "      <th>g-5</th>\n",
              "      <th>g-6</th>\n",
              "      <th>g-7</th>\n",
              "      <th>g-8</th>\n",
              "      <th>g-9</th>\n",
              "      <th>g-10</th>\n",
              "      <th>g-11</th>\n",
              "      <th>g-12</th>\n",
              "      <th>g-13</th>\n",
              "      <th>g-14</th>\n",
              "      <th>g-15</th>\n",
              "      <th>g-16</th>\n",
              "      <th>g-17</th>\n",
              "      <th>g-18</th>\n",
              "      <th>g-19</th>\n",
              "      <th>g-20</th>\n",
              "      <th>g-21</th>\n",
              "      <th>g-22</th>\n",
              "      <th>g-23</th>\n",
              "      <th>g-24</th>\n",
              "      <th>g-25</th>\n",
              "      <th>g-26</th>\n",
              "      <th>g-27</th>\n",
              "      <th>g-28</th>\n",
              "      <th>g-29</th>\n",
              "      <th>g-30</th>\n",
              "      <th>g-31</th>\n",
              "      <th>g-32</th>\n",
              "      <th>g-33</th>\n",
              "      <th>g-34</th>\n",
              "      <th>...</th>\n",
              "      <th>c-62</th>\n",
              "      <th>c-63</th>\n",
              "      <th>c-64</th>\n",
              "      <th>c-65</th>\n",
              "      <th>c-66</th>\n",
              "      <th>c-67</th>\n",
              "      <th>c-68</th>\n",
              "      <th>c-69</th>\n",
              "      <th>c-70</th>\n",
              "      <th>c-71</th>\n",
              "      <th>c-72</th>\n",
              "      <th>c-73</th>\n",
              "      <th>c-74</th>\n",
              "      <th>c-75</th>\n",
              "      <th>c-76</th>\n",
              "      <th>c-77</th>\n",
              "      <th>c-78</th>\n",
              "      <th>c-79</th>\n",
              "      <th>c-80</th>\n",
              "      <th>c-81</th>\n",
              "      <th>c-82</th>\n",
              "      <th>c-83</th>\n",
              "      <th>c-84</th>\n",
              "      <th>c-85</th>\n",
              "      <th>c-86</th>\n",
              "      <th>c-87</th>\n",
              "      <th>c-88</th>\n",
              "      <th>c-89</th>\n",
              "      <th>c-90</th>\n",
              "      <th>c-91</th>\n",
              "      <th>c-92</th>\n",
              "      <th>c-93</th>\n",
              "      <th>c-94</th>\n",
              "      <th>c-95</th>\n",
              "      <th>c-96</th>\n",
              "      <th>c-97</th>\n",
              "      <th>c-98</th>\n",
              "      <th>c-99</th>\n",
              "      <th>n_moa</th>\n",
              "      <th>ativo_moa</th>\n",
              "    </tr>\n",
              "  </thead>\n",
              "  <tbody>\n",
              "    <tr>\n",
              "      <th>7</th>\n",
              "      <td>id_0020d0484</td>\n",
              "      <td>com_droga</td>\n",
              "      <td>48</td>\n",
              "      <td>D1</td>\n",
              "      <td>8b87a7a83</td>\n",
              "      <td>0.2711</td>\n",
              "      <td>0.5133</td>\n",
              "      <td>-0.1327</td>\n",
              "      <td>2.5950</td>\n",
              "      <td>0.6980</td>\n",
              "      <td>0.5846</td>\n",
              "      <td>-0.2633</td>\n",
              "      <td>-2.1490</td>\n",
              "      <td>0.4881</td>\n",
              "      <td>1.4750</td>\n",
              "      <td>-0.0488</td>\n",
              "      <td>-0.0561</td>\n",
              "      <td>0.1641</td>\n",
              "      <td>0.1749</td>\n",
              "      <td>-0.3464</td>\n",
              "      <td>-0.1811</td>\n",
              "      <td>0.5685</td>\n",
              "      <td>1.2970</td>\n",
              "      <td>1.0510</td>\n",
              "      <td>-0.9585</td>\n",
              "      <td>0.7911</td>\n",
              "      <td>-0.2991</td>\n",
              "      <td>2.7420</td>\n",
              "      <td>-0.5979</td>\n",
              "      <td>-1.0240</td>\n",
              "      <td>0.7268</td>\n",
              "      <td>0.1590</td>\n",
              "      <td>-1.9730</td>\n",
              "      <td>1.1340</td>\n",
              "      <td>-2.5720</td>\n",
              "      <td>0.2068</td>\n",
              "      <td>0.9992</td>\n",
              "      <td>-0.1958</td>\n",
              "      <td>0.2262</td>\n",
              "      <td>1.0140</td>\n",
              "      <td>...</td>\n",
              "      <td>-0.0530</td>\n",
              "      <td>0.2077</td>\n",
              "      <td>-0.0825</td>\n",
              "      <td>0.2156</td>\n",
              "      <td>0.8142</td>\n",
              "      <td>1.0990</td>\n",
              "      <td>1.0860</td>\n",
              "      <td>0.4011</td>\n",
              "      <td>-0.1342</td>\n",
              "      <td>0.4653</td>\n",
              "      <td>-0.1104</td>\n",
              "      <td>0.3935</td>\n",
              "      <td>1.2370</td>\n",
              "      <td>-0.5072</td>\n",
              "      <td>0.0351</td>\n",
              "      <td>0.5084</td>\n",
              "      <td>-0.1248</td>\n",
              "      <td>0.4351</td>\n",
              "      <td>0.1389</td>\n",
              "      <td>0.6726</td>\n",
              "      <td>0.6070</td>\n",
              "      <td>0.3431</td>\n",
              "      <td>-0.4116</td>\n",
              "      <td>0.1194</td>\n",
              "      <td>0.342</td>\n",
              "      <td>0.1331</td>\n",
              "      <td>0.8541</td>\n",
              "      <td>0.6282</td>\n",
              "      <td>0.3230</td>\n",
              "      <td>-0.4140</td>\n",
              "      <td>0.2532</td>\n",
              "      <td>0.0513</td>\n",
              "      <td>0.8600</td>\n",
              "      <td>1.4250</td>\n",
              "      <td>0.6633</td>\n",
              "      <td>0.4562</td>\n",
              "      <td>-0.9622</td>\n",
              "      <td>0.0260</td>\n",
              "      <td>1</td>\n",
              "      <td>True</td>\n",
              "    </tr>\n",
              "    <tr>\n",
              "      <th>16</th>\n",
              "      <td>id_002fb9c19</td>\n",
              "      <td>com_droga</td>\n",
              "      <td>48</td>\n",
              "      <td>D1</td>\n",
              "      <td>87d714366</td>\n",
              "      <td>8.7380</td>\n",
              "      <td>0.1914</td>\n",
              "      <td>2.4380</td>\n",
              "      <td>-0.2930</td>\n",
              "      <td>3.2010</td>\n",
              "      <td>1.4910</td>\n",
              "      <td>5.3920</td>\n",
              "      <td>-1.0420</td>\n",
              "      <td>-8.4860</td>\n",
              "      <td>-2.5790</td>\n",
              "      <td>-6.7470</td>\n",
              "      <td>3.6150</td>\n",
              "      <td>-1.4510</td>\n",
              "      <td>0.6909</td>\n",
              "      <td>-0.7623</td>\n",
              "      <td>-2.9400</td>\n",
              "      <td>-9.2850</td>\n",
              "      <td>-6.7110</td>\n",
              "      <td>-0.4195</td>\n",
              "      <td>1.1600</td>\n",
              "      <td>-1.3180</td>\n",
              "      <td>1.3660</td>\n",
              "      <td>-1.4020</td>\n",
              "      <td>-2.6220</td>\n",
              "      <td>0.7204</td>\n",
              "      <td>-2.5930</td>\n",
              "      <td>-4.0630</td>\n",
              "      <td>-0.8282</td>\n",
              "      <td>-3.5000</td>\n",
              "      <td>0.9206</td>\n",
              "      <td>-5.1450</td>\n",
              "      <td>9.8040</td>\n",
              "      <td>-2.6840</td>\n",
              "      <td>-2.4390</td>\n",
              "      <td>-0.1427</td>\n",
              "      <td>...</td>\n",
              "      <td>-10.0000</td>\n",
              "      <td>-10.0000</td>\n",
              "      <td>-8.5110</td>\n",
              "      <td>-10.0000</td>\n",
              "      <td>-10.0000</td>\n",
              "      <td>-10.0000</td>\n",
              "      <td>-10.0000</td>\n",
              "      <td>-8.8870</td>\n",
              "      <td>-10.0000</td>\n",
              "      <td>-10.0000</td>\n",
              "      <td>-10.0000</td>\n",
              "      <td>-10.0000</td>\n",
              "      <td>-4.9020</td>\n",
              "      <td>-9.9840</td>\n",
              "      <td>-5.5520</td>\n",
              "      <td>-9.9840</td>\n",
              "      <td>-9.9840</td>\n",
              "      <td>-9.9840</td>\n",
              "      <td>-9.9840</td>\n",
              "      <td>-9.9840</td>\n",
              "      <td>-9.9840</td>\n",
              "      <td>-9.9840</td>\n",
              "      <td>-9.9840</td>\n",
              "      <td>-9.9840</td>\n",
              "      <td>-9.796</td>\n",
              "      <td>-8.1770</td>\n",
              "      <td>-9.8990</td>\n",
              "      <td>-9.9840</td>\n",
              "      <td>-9.9840</td>\n",
              "      <td>-9.9840</td>\n",
              "      <td>-9.9840</td>\n",
              "      <td>-9.9840</td>\n",
              "      <td>-9.9840</td>\n",
              "      <td>-9.9840</td>\n",
              "      <td>-9.9840</td>\n",
              "      <td>-9.9840</td>\n",
              "      <td>-9.9840</td>\n",
              "      <td>-6.7840</td>\n",
              "      <td>2</td>\n",
              "      <td>True</td>\n",
              "    </tr>\n",
              "    <tr>\n",
              "      <th>25</th>\n",
              "      <td>id_0054388ec</td>\n",
              "      <td>com_controle</td>\n",
              "      <td>48</td>\n",
              "      <td>D1</td>\n",
              "      <td>cacb2b860</td>\n",
              "      <td>-0.6696</td>\n",
              "      <td>-0.2718</td>\n",
              "      <td>-1.2230</td>\n",
              "      <td>-0.6226</td>\n",
              "      <td>-0.7220</td>\n",
              "      <td>0.1588</td>\n",
              "      <td>0.7785</td>\n",
              "      <td>0.7062</td>\n",
              "      <td>-0.7951</td>\n",
              "      <td>1.3770</td>\n",
              "      <td>0.2856</td>\n",
              "      <td>-0.8331</td>\n",
              "      <td>0.3879</td>\n",
              "      <td>1.3290</td>\n",
              "      <td>-0.4746</td>\n",
              "      <td>0.0857</td>\n",
              "      <td>-0.2745</td>\n",
              "      <td>-0.1093</td>\n",
              "      <td>0.2603</td>\n",
              "      <td>0.7386</td>\n",
              "      <td>-0.6665</td>\n",
              "      <td>-1.6520</td>\n",
              "      <td>-0.9262</td>\n",
              "      <td>0.0000</td>\n",
              "      <td>1.6310</td>\n",
              "      <td>-0.2933</td>\n",
              "      <td>0.2043</td>\n",
              "      <td>-2.2070</td>\n",
              "      <td>0.1383</td>\n",
              "      <td>-0.4966</td>\n",
              "      <td>0.6922</td>\n",
              "      <td>-0.4077</td>\n",
              "      <td>0.2303</td>\n",
              "      <td>-0.0456</td>\n",
              "      <td>-0.7447</td>\n",
              "      <td>...</td>\n",
              "      <td>0.3768</td>\n",
              "      <td>0.4318</td>\n",
              "      <td>-0.1051</td>\n",
              "      <td>0.3933</td>\n",
              "      <td>-0.3189</td>\n",
              "      <td>0.4128</td>\n",
              "      <td>-0.2116</td>\n",
              "      <td>-1.0410</td>\n",
              "      <td>0.7798</td>\n",
              "      <td>0.1579</td>\n",
              "      <td>1.7250</td>\n",
              "      <td>1.4490</td>\n",
              "      <td>0.9117</td>\n",
              "      <td>-0.0754</td>\n",
              "      <td>-0.8396</td>\n",
              "      <td>0.7640</td>\n",
              "      <td>1.2080</td>\n",
              "      <td>1.1890</td>\n",
              "      <td>0.2114</td>\n",
              "      <td>0.6335</td>\n",
              "      <td>0.3265</td>\n",
              "      <td>-0.1056</td>\n",
              "      <td>0.5478</td>\n",
              "      <td>0.7477</td>\n",
              "      <td>1.234</td>\n",
              "      <td>0.5035</td>\n",
              "      <td>-0.6591</td>\n",
              "      <td>0.3023</td>\n",
              "      <td>0.6171</td>\n",
              "      <td>0.6405</td>\n",
              "      <td>0.5429</td>\n",
              "      <td>0.3562</td>\n",
              "      <td>1.3290</td>\n",
              "      <td>0.5573</td>\n",
              "      <td>0.8837</td>\n",
              "      <td>0.5534</td>\n",
              "      <td>0.8976</td>\n",
              "      <td>1.0050</td>\n",
              "      <td>0</td>\n",
              "      <td>False</td>\n",
              "    </tr>\n",
              "    <tr>\n",
              "      <th>38</th>\n",
              "      <td>id_0079af0fb</td>\n",
              "      <td>com_controle</td>\n",
              "      <td>24</td>\n",
              "      <td>D1</td>\n",
              "      <td>cacb2b860</td>\n",
              "      <td>-0.1636</td>\n",
              "      <td>-1.8230</td>\n",
              "      <td>-0.5211</td>\n",
              "      <td>0.3054</td>\n",
              "      <td>-1.1280</td>\n",
              "      <td>0.6041</td>\n",
              "      <td>0.3856</td>\n",
              "      <td>-0.1670</td>\n",
              "      <td>-0.5400</td>\n",
              "      <td>0.2721</td>\n",
              "      <td>-0.2479</td>\n",
              "      <td>0.0761</td>\n",
              "      <td>-0.4054</td>\n",
              "      <td>2.9760</td>\n",
              "      <td>-0.7679</td>\n",
              "      <td>0.6995</td>\n",
              "      <td>0.0752</td>\n",
              "      <td>0.5943</td>\n",
              "      <td>0.4266</td>\n",
              "      <td>0.0000</td>\n",
              "      <td>1.0410</td>\n",
              "      <td>-0.1131</td>\n",
              "      <td>0.6593</td>\n",
              "      <td>-0.6890</td>\n",
              "      <td>0.5115</td>\n",
              "      <td>-0.2512</td>\n",
              "      <td>-0.8775</td>\n",
              "      <td>-1.3810</td>\n",
              "      <td>0.1419</td>\n",
              "      <td>-0.0363</td>\n",
              "      <td>0.2559</td>\n",
              "      <td>2.5290</td>\n",
              "      <td>0.2853</td>\n",
              "      <td>1.4690</td>\n",
              "      <td>-0.3626</td>\n",
              "      <td>...</td>\n",
              "      <td>-0.7493</td>\n",
              "      <td>-0.2701</td>\n",
              "      <td>0.1205</td>\n",
              "      <td>0.2396</td>\n",
              "      <td>0.3506</td>\n",
              "      <td>-0.9233</td>\n",
              "      <td>0.2490</td>\n",
              "      <td>-0.0824</td>\n",
              "      <td>0.4841</td>\n",
              "      <td>1.1940</td>\n",
              "      <td>-1.1650</td>\n",
              "      <td>-0.4853</td>\n",
              "      <td>1.1080</td>\n",
              "      <td>-0.5979</td>\n",
              "      <td>0.7438</td>\n",
              "      <td>0.2050</td>\n",
              "      <td>-0.2761</td>\n",
              "      <td>-0.1748</td>\n",
              "      <td>0.3385</td>\n",
              "      <td>-0.3500</td>\n",
              "      <td>-0.0309</td>\n",
              "      <td>-0.0409</td>\n",
              "      <td>-0.0735</td>\n",
              "      <td>0.2732</td>\n",
              "      <td>-1.210</td>\n",
              "      <td>0.0089</td>\n",
              "      <td>0.0317</td>\n",
              "      <td>0.4721</td>\n",
              "      <td>-0.3880</td>\n",
              "      <td>-0.6828</td>\n",
              "      <td>-0.6594</td>\n",
              "      <td>-0.2043</td>\n",
              "      <td>0.3571</td>\n",
              "      <td>-0.1319</td>\n",
              "      <td>0.2187</td>\n",
              "      <td>0.0737</td>\n",
              "      <td>0.6498</td>\n",
              "      <td>-1.4820</td>\n",
              "      <td>0</td>\n",
              "      <td>False</td>\n",
              "    </tr>\n",
              "    <tr>\n",
              "      <th>39</th>\n",
              "      <td>id_0079d45d3</td>\n",
              "      <td>com_droga</td>\n",
              "      <td>24</td>\n",
              "      <td>D1</td>\n",
              "      <td>292ab2c28</td>\n",
              "      <td>1.6310</td>\n",
              "      <td>-2.1430</td>\n",
              "      <td>-0.0943</td>\n",
              "      <td>-1.1990</td>\n",
              "      <td>0.4869</td>\n",
              "      <td>-0.0935</td>\n",
              "      <td>1.2090</td>\n",
              "      <td>-3.8910</td>\n",
              "      <td>-1.5450</td>\n",
              "      <td>-2.2870</td>\n",
              "      <td>-2.2040</td>\n",
              "      <td>-0.8888</td>\n",
              "      <td>-1.1730</td>\n",
              "      <td>0.0444</td>\n",
              "      <td>-3.9430</td>\n",
              "      <td>0.1673</td>\n",
              "      <td>-0.9502</td>\n",
              "      <td>-1.1750</td>\n",
              "      <td>0.1686</td>\n",
              "      <td>3.8480</td>\n",
              "      <td>-2.9760</td>\n",
              "      <td>-0.0389</td>\n",
              "      <td>1.6330</td>\n",
              "      <td>-0.0655</td>\n",
              "      <td>1.3810</td>\n",
              "      <td>-2.4340</td>\n",
              "      <td>-1.8040</td>\n",
              "      <td>0.3945</td>\n",
              "      <td>-1.2080</td>\n",
              "      <td>-0.1963</td>\n",
              "      <td>-2.0170</td>\n",
              "      <td>0.6004</td>\n",
              "      <td>-2.5860</td>\n",
              "      <td>-1.4550</td>\n",
              "      <td>-0.4141</td>\n",
              "      <td>...</td>\n",
              "      <td>-2.5430</td>\n",
              "      <td>-6.4260</td>\n",
              "      <td>-2.5320</td>\n",
              "      <td>-4.3570</td>\n",
              "      <td>-4.7560</td>\n",
              "      <td>-0.8781</td>\n",
              "      <td>-3.7800</td>\n",
              "      <td>-1.6340</td>\n",
              "      <td>-3.9660</td>\n",
              "      <td>-1.7890</td>\n",
              "      <td>-3.2480</td>\n",
              "      <td>-2.6720</td>\n",
              "      <td>-1.3250</td>\n",
              "      <td>-2.3430</td>\n",
              "      <td>-3.2220</td>\n",
              "      <td>-2.5160</td>\n",
              "      <td>-2.3410</td>\n",
              "      <td>-2.4620</td>\n",
              "      <td>-3.8760</td>\n",
              "      <td>-2.2450</td>\n",
              "      <td>-3.9450</td>\n",
              "      <td>-1.7400</td>\n",
              "      <td>-4.4320</td>\n",
              "      <td>-3.6740</td>\n",
              "      <td>-2.981</td>\n",
              "      <td>-4.5770</td>\n",
              "      <td>-1.8620</td>\n",
              "      <td>-1.9120</td>\n",
              "      <td>-2.9240</td>\n",
              "      <td>-5.7720</td>\n",
              "      <td>-1.9360</td>\n",
              "      <td>-2.8860</td>\n",
              "      <td>-2.7680</td>\n",
              "      <td>-2.4840</td>\n",
              "      <td>-2.7020</td>\n",
              "      <td>-2.2530</td>\n",
              "      <td>-4.8360</td>\n",
              "      <td>-0.6461</td>\n",
              "      <td>0</td>\n",
              "      <td>False</td>\n",
              "    </tr>\n",
              "  </tbody>\n",
              "</table>\n",
              "<p>5 rows × 879 columns</p>\n",
              "</div>"
            ],
            "text/plain": [
              "              id    tratamento  tempo dose  ...    c-98    c-99  n_moa  ativo_moa\n",
              "7   id_0020d0484     com_droga     48   D1  ... -0.9622  0.0260      1       True\n",
              "16  id_002fb9c19     com_droga     48   D1  ... -9.9840 -6.7840      2       True\n",
              "25  id_0054388ec  com_controle     48   D1  ...  0.8976  1.0050      0      False\n",
              "38  id_0079af0fb  com_controle     24   D1  ...  0.6498 -1.4820      0      False\n",
              "39  id_0079d45d3     com_droga     24   D1  ... -4.8360 -0.6461      0      False\n",
              "\n",
              "[5 rows x 879 columns]"
            ]
          },
          "metadata": {
            "tags": []
          },
          "execution_count": 82
        }
      ]
    },
    {
      "cell_type": "markdown",
      "metadata": {
        "id": "GgX0kzdFGfb5"
      },
      "source": [
        "### Influência do Tempo e Dose"
      ]
    },
    {
      "cell_type": "markdown",
      "metadata": {
        "id": "JUG1UYCL8llC"
      },
      "source": [
        "Para comparar a diferença entre as variáveis Tempo e Dose para cada droga, a melhor forma de fazê-lo é através de uma visualização. A seguir temos um gráfico de barras para cada droga com o número de ativação para dada dose e tempo."
      ]
    },
    {
      "cell_type": "code",
      "metadata": {
        "colab": {
          "base_uri": "https://localhost:8080/",
          "height": 0
        },
        "id": "0W9CBzgBGpkM",
        "outputId": "8b0e0372-2c9d-42c6-c292-ddd0eb48cfd7"
      },
      "source": [
        "data = combinadosM.groupby(['droga','tempo','dose']).sum()['n_moa'].reset_index()\n",
        "\n",
        "g = sns.catplot(data=data, x='dose', kind='bar', y='n_moa',\n",
        "                 hue='tempo', col='droga', col_wrap=3, height=4.5, \n",
        "                 margin_titles=True, legend=True)\n",
        "\n",
        "g.legend.set_title('Tempo (h)')\n",
        "g.set_axis_labels('', 'MOAs Ativados')\n",
        "g.set_titles(\"{col_var}: {col_name}\")\n",
        "plt.show()"
      ],
      "execution_count": 83,
      "outputs": [
        {
          "output_type": "display_data",
          "data": {
            "image/png": "[encoded data removed]",
            "text/plain": [
              "<Figure size 1025.47x972 with 9 Axes>"
            ]
          },
          "metadata": {
            "tags": []
          }
        }
      ]
    },
    {
      "cell_type": "markdown",
      "metadata": {
        "id": "d57oCDH5pZ_h"
      },
      "source": [
        "Repare que há duas drogas que não ativam nenhum mecanismo de ação. A _cacb2b860_, que já era de se esperar uma vez que ela representa o placebo, e a _292ab2c28_, essa por sua vez não representa o placebo e se desconhece a causa por não causar nenhuma ativação."
      ]
    },
    {
      "cell_type": "markdown",
      "metadata": {
        "id": "egTVd1ymqSDs"
      },
      "source": [
        "### Modelo de Machine Learning"
      ]
    },
    {
      "cell_type": "markdown",
      "metadata": {
        "id": "vj_2A4ofq4yQ"
      },
      "source": [
        "![FlowChart](https://miro.medium.com/max/753/0*XitqTqJMytRRsCFL.png)  \n",
        "O modelo de Machine Learning foi escolhido de acordo com o flowchart acima e será o Random Forest.\n"
      ]
    },
    {
      "cell_type": "code",
      "metadata": {
        "colab": {
          "base_uri": "https://localhost:8080/",
          "height": 253
        },
        "id": "nx-JuKBSy0YU",
        "outputId": "7cba0371-c574-48b2-d3c4-4d1beb34eeaf"
      },
      "source": [
        "combinadosM.head()"
      ],
      "execution_count": 84,
      "outputs": [
        {
          "output_type": "execute_result",
          "data": {
            "text/html": [
              "<div>\n",
              "<style scoped>\n",
              "    .dataframe tbody tr th:only-of-type {\n",
              "        vertical-align: middle;\n",
              "    }\n",
              "\n",
              "    .dataframe tbody tr th {\n",
              "        vertical-align: top;\n",
              "    }\n",
              "\n",
              "    .dataframe thead th {\n",
              "        text-align: right;\n",
              "    }\n",
              "</style>\n",
              "<table border=\"1\" class=\"dataframe\">\n",
              "  <thead>\n",
              "    <tr style=\"text-align: right;\">\n",
              "      <th></th>\n",
              "      <th>id</th>\n",
              "      <th>tratamento</th>\n",
              "      <th>tempo</th>\n",
              "      <th>dose</th>\n",
              "      <th>droga</th>\n",
              "      <th>g-0</th>\n",
              "      <th>g-1</th>\n",
              "      <th>g-2</th>\n",
              "      <th>g-3</th>\n",
              "      <th>g-4</th>\n",
              "      <th>g-5</th>\n",
              "      <th>g-6</th>\n",
              "      <th>g-7</th>\n",
              "      <th>g-8</th>\n",
              "      <th>g-9</th>\n",
              "      <th>g-10</th>\n",
              "      <th>g-11</th>\n",
              "      <th>g-12</th>\n",
              "      <th>g-13</th>\n",
              "      <th>g-14</th>\n",
              "      <th>g-15</th>\n",
              "      <th>g-16</th>\n",
              "      <th>g-17</th>\n",
              "      <th>g-18</th>\n",
              "      <th>g-19</th>\n",
              "      <th>g-20</th>\n",
              "      <th>g-21</th>\n",
              "      <th>g-22</th>\n",
              "      <th>g-23</th>\n",
              "      <th>g-24</th>\n",
              "      <th>g-25</th>\n",
              "      <th>g-26</th>\n",
              "      <th>g-27</th>\n",
              "      <th>g-28</th>\n",
              "      <th>g-29</th>\n",
              "      <th>g-30</th>\n",
              "      <th>g-31</th>\n",
              "      <th>g-32</th>\n",
              "      <th>g-33</th>\n",
              "      <th>g-34</th>\n",
              "      <th>...</th>\n",
              "      <th>c-62</th>\n",
              "      <th>c-63</th>\n",
              "      <th>c-64</th>\n",
              "      <th>c-65</th>\n",
              "      <th>c-66</th>\n",
              "      <th>c-67</th>\n",
              "      <th>c-68</th>\n",
              "      <th>c-69</th>\n",
              "      <th>c-70</th>\n",
              "      <th>c-71</th>\n",
              "      <th>c-72</th>\n",
              "      <th>c-73</th>\n",
              "      <th>c-74</th>\n",
              "      <th>c-75</th>\n",
              "      <th>c-76</th>\n",
              "      <th>c-77</th>\n",
              "      <th>c-78</th>\n",
              "      <th>c-79</th>\n",
              "      <th>c-80</th>\n",
              "      <th>c-81</th>\n",
              "      <th>c-82</th>\n",
              "      <th>c-83</th>\n",
              "      <th>c-84</th>\n",
              "      <th>c-85</th>\n",
              "      <th>c-86</th>\n",
              "      <th>c-87</th>\n",
              "      <th>c-88</th>\n",
              "      <th>c-89</th>\n",
              "      <th>c-90</th>\n",
              "      <th>c-91</th>\n",
              "      <th>c-92</th>\n",
              "      <th>c-93</th>\n",
              "      <th>c-94</th>\n",
              "      <th>c-95</th>\n",
              "      <th>c-96</th>\n",
              "      <th>c-97</th>\n",
              "      <th>c-98</th>\n",
              "      <th>c-99</th>\n",
              "      <th>n_moa</th>\n",
              "      <th>ativo_moa</th>\n",
              "    </tr>\n",
              "  </thead>\n",
              "  <tbody>\n",
              "    <tr>\n",
              "      <th>7</th>\n",
              "      <td>id_0020d0484</td>\n",
              "      <td>com_droga</td>\n",
              "      <td>48</td>\n",
              "      <td>D1</td>\n",
              "      <td>8b87a7a83</td>\n",
              "      <td>0.2711</td>\n",
              "      <td>0.5133</td>\n",
              "      <td>-0.1327</td>\n",
              "      <td>2.5950</td>\n",
              "      <td>0.6980</td>\n",
              "      <td>0.5846</td>\n",
              "      <td>-0.2633</td>\n",
              "      <td>-2.1490</td>\n",
              "      <td>0.4881</td>\n",
              "      <td>1.4750</td>\n",
              "      <td>-0.0488</td>\n",
              "      <td>-0.0561</td>\n",
              "      <td>0.1641</td>\n",
              "      <td>0.1749</td>\n",
              "      <td>-0.3464</td>\n",
              "      <td>-0.1811</td>\n",
              "      <td>0.5685</td>\n",
              "      <td>1.2970</td>\n",
              "      <td>1.0510</td>\n",
              "      <td>-0.9585</td>\n",
              "      <td>0.7911</td>\n",
              "      <td>-0.2991</td>\n",
              "      <td>2.7420</td>\n",
              "      <td>-0.5979</td>\n",
              "      <td>-1.0240</td>\n",
              "      <td>0.7268</td>\n",
              "      <td>0.1590</td>\n",
              "      <td>-1.9730</td>\n",
              "      <td>1.1340</td>\n",
              "      <td>-2.5720</td>\n",
              "      <td>0.2068</td>\n",
              "      <td>0.9992</td>\n",
              "      <td>-0.1958</td>\n",
              "      <td>0.2262</td>\n",
              "      <td>1.0140</td>\n",
              "      <td>...</td>\n",
              "      <td>-0.0530</td>\n",
              "      <td>0.2077</td>\n",
              "      <td>-0.0825</td>\n",
              "      <td>0.2156</td>\n",
              "      <td>0.8142</td>\n",
              "      <td>1.0990</td>\n",
              "      <td>1.0860</td>\n",
              "      <td>0.4011</td>\n",
              "      <td>-0.1342</td>\n",
              "      <td>0.4653</td>\n",
              "      <td>-0.1104</td>\n",
              "      <td>0.3935</td>\n",
              "      <td>1.2370</td>\n",
              "      <td>-0.5072</td>\n",
              "      <td>0.0351</td>\n",
              "      <td>0.5084</td>\n",
              "      <td>-0.1248</td>\n",
              "      <td>0.4351</td>\n",
              "      <td>0.1389</td>\n",
              "      <td>0.6726</td>\n",
              "      <td>0.6070</td>\n",
              "      <td>0.3431</td>\n",
              "      <td>-0.4116</td>\n",
              "      <td>0.1194</td>\n",
              "      <td>0.342</td>\n",
              "      <td>0.1331</td>\n",
              "      <td>0.8541</td>\n",
              "      <td>0.6282</td>\n",
              "      <td>0.3230</td>\n",
              "      <td>-0.4140</td>\n",
              "      <td>0.2532</td>\n",
              "      <td>0.0513</td>\n",
              "      <td>0.8600</td>\n",
              "      <td>1.4250</td>\n",
              "      <td>0.6633</td>\n",
              "      <td>0.4562</td>\n",
              "      <td>-0.9622</td>\n",
              "      <td>0.0260</td>\n",
              "      <td>1</td>\n",
              "      <td>True</td>\n",
              "    </tr>\n",
              "    <tr>\n",
              "      <th>16</th>\n",
              "      <td>id_002fb9c19</td>\n",
              "      <td>com_droga</td>\n",
              "      <td>48</td>\n",
              "      <td>D1</td>\n",
              "      <td>87d714366</td>\n",
              "      <td>8.7380</td>\n",
              "      <td>0.1914</td>\n",
              "      <td>2.4380</td>\n",
              "      <td>-0.2930</td>\n",
              "      <td>3.2010</td>\n",
              "      <td>1.4910</td>\n",
              "      <td>5.3920</td>\n",
              "      <td>-1.0420</td>\n",
              "      <td>-8.4860</td>\n",
              "      <td>-2.5790</td>\n",
              "      <td>-6.7470</td>\n",
              "      <td>3.6150</td>\n",
              "      <td>-1.4510</td>\n",
              "      <td>0.6909</td>\n",
              "      <td>-0.7623</td>\n",
              "      <td>-2.9400</td>\n",
              "      <td>-9.2850</td>\n",
              "      <td>-6.7110</td>\n",
              "      <td>-0.4195</td>\n",
              "      <td>1.1600</td>\n",
              "      <td>-1.3180</td>\n",
              "      <td>1.3660</td>\n",
              "      <td>-1.4020</td>\n",
              "      <td>-2.6220</td>\n",
              "      <td>0.7204</td>\n",
              "      <td>-2.5930</td>\n",
              "      <td>-4.0630</td>\n",
              "      <td>-0.8282</td>\n",
              "      <td>-3.5000</td>\n",
              "      <td>0.9206</td>\n",
              "      <td>-5.1450</td>\n",
              "      <td>9.8040</td>\n",
              "      <td>-2.6840</td>\n",
              "      <td>-2.4390</td>\n",
              "      <td>-0.1427</td>\n",
              "      <td>...</td>\n",
              "      <td>-10.0000</td>\n",
              "      <td>-10.0000</td>\n",
              "      <td>-8.5110</td>\n",
              "      <td>-10.0000</td>\n",
              "      <td>-10.0000</td>\n",
              "      <td>-10.0000</td>\n",
              "      <td>-10.0000</td>\n",
              "      <td>-8.8870</td>\n",
              "      <td>-10.0000</td>\n",
              "      <td>-10.0000</td>\n",
              "      <td>-10.0000</td>\n",
              "      <td>-10.0000</td>\n",
              "      <td>-4.9020</td>\n",
              "      <td>-9.9840</td>\n",
              "      <td>-5.5520</td>\n",
              "      <td>-9.9840</td>\n",
              "      <td>-9.9840</td>\n",
              "      <td>-9.9840</td>\n",
              "      <td>-9.9840</td>\n",
              "      <td>-9.9840</td>\n",
              "      <td>-9.9840</td>\n",
              "      <td>-9.9840</td>\n",
              "      <td>-9.9840</td>\n",
              "      <td>-9.9840</td>\n",
              "      <td>-9.796</td>\n",
              "      <td>-8.1770</td>\n",
              "      <td>-9.8990</td>\n",
              "      <td>-9.9840</td>\n",
              "      <td>-9.9840</td>\n",
              "      <td>-9.9840</td>\n",
              "      <td>-9.9840</td>\n",
              "      <td>-9.9840</td>\n",
              "      <td>-9.9840</td>\n",
              "      <td>-9.9840</td>\n",
              "      <td>-9.9840</td>\n",
              "      <td>-9.9840</td>\n",
              "      <td>-9.9840</td>\n",
              "      <td>-6.7840</td>\n",
              "      <td>2</td>\n",
              "      <td>True</td>\n",
              "    </tr>\n",
              "    <tr>\n",
              "      <th>25</th>\n",
              "      <td>id_0054388ec</td>\n",
              "      <td>com_controle</td>\n",
              "      <td>48</td>\n",
              "      <td>D1</td>\n",
              "      <td>cacb2b860</td>\n",
              "      <td>-0.6696</td>\n",
              "      <td>-0.2718</td>\n",
              "      <td>-1.2230</td>\n",
              "      <td>-0.6226</td>\n",
              "      <td>-0.7220</td>\n",
              "      <td>0.1588</td>\n",
              "      <td>0.7785</td>\n",
              "      <td>0.7062</td>\n",
              "      <td>-0.7951</td>\n",
              "      <td>1.3770</td>\n",
              "      <td>0.2856</td>\n",
              "      <td>-0.8331</td>\n",
              "      <td>0.3879</td>\n",
              "      <td>1.3290</td>\n",
              "      <td>-0.4746</td>\n",
              "      <td>0.0857</td>\n",
              "      <td>-0.2745</td>\n",
              "      <td>-0.1093</td>\n",
              "      <td>0.2603</td>\n",
              "      <td>0.7386</td>\n",
              "      <td>-0.6665</td>\n",
              "      <td>-1.6520</td>\n",
              "      <td>-0.9262</td>\n",
              "      <td>0.0000</td>\n",
              "      <td>1.6310</td>\n",
              "      <td>-0.2933</td>\n",
              "      <td>0.2043</td>\n",
              "      <td>-2.2070</td>\n",
              "      <td>0.1383</td>\n",
              "      <td>-0.4966</td>\n",
              "      <td>0.6922</td>\n",
              "      <td>-0.4077</td>\n",
              "      <td>0.2303</td>\n",
              "      <td>-0.0456</td>\n",
              "      <td>-0.7447</td>\n",
              "      <td>...</td>\n",
              "      <td>0.3768</td>\n",
              "      <td>0.4318</td>\n",
              "      <td>-0.1051</td>\n",
              "      <td>0.3933</td>\n",
              "      <td>-0.3189</td>\n",
              "      <td>0.4128</td>\n",
              "      <td>-0.2116</td>\n",
              "      <td>-1.0410</td>\n",
              "      <td>0.7798</td>\n",
              "      <td>0.1579</td>\n",
              "      <td>1.7250</td>\n",
              "      <td>1.4490</td>\n",
              "      <td>0.9117</td>\n",
              "      <td>-0.0754</td>\n",
              "      <td>-0.8396</td>\n",
              "      <td>0.7640</td>\n",
              "      <td>1.2080</td>\n",
              "      <td>1.1890</td>\n",
              "      <td>0.2114</td>\n",
              "      <td>0.6335</td>\n",
              "      <td>0.3265</td>\n",
              "      <td>-0.1056</td>\n",
              "      <td>0.5478</td>\n",
              "      <td>0.7477</td>\n",
              "      <td>1.234</td>\n",
              "      <td>0.5035</td>\n",
              "      <td>-0.6591</td>\n",
              "      <td>0.3023</td>\n",
              "      <td>0.6171</td>\n",
              "      <td>0.6405</td>\n",
              "      <td>0.5429</td>\n",
              "      <td>0.3562</td>\n",
              "      <td>1.3290</td>\n",
              "      <td>0.5573</td>\n",
              "      <td>0.8837</td>\n",
              "      <td>0.5534</td>\n",
              "      <td>0.8976</td>\n",
              "      <td>1.0050</td>\n",
              "      <td>0</td>\n",
              "      <td>False</td>\n",
              "    </tr>\n",
              "    <tr>\n",
              "      <th>38</th>\n",
              "      <td>id_0079af0fb</td>\n",
              "      <td>com_controle</td>\n",
              "      <td>24</td>\n",
              "      <td>D1</td>\n",
              "      <td>cacb2b860</td>\n",
              "      <td>-0.1636</td>\n",
              "      <td>-1.8230</td>\n",
              "      <td>-0.5211</td>\n",
              "      <td>0.3054</td>\n",
              "      <td>-1.1280</td>\n",
              "      <td>0.6041</td>\n",
              "      <td>0.3856</td>\n",
              "      <td>-0.1670</td>\n",
              "      <td>-0.5400</td>\n",
              "      <td>0.2721</td>\n",
              "      <td>-0.2479</td>\n",
              "      <td>0.0761</td>\n",
              "      <td>-0.4054</td>\n",
              "      <td>2.9760</td>\n",
              "      <td>-0.7679</td>\n",
              "      <td>0.6995</td>\n",
              "      <td>0.0752</td>\n",
              "      <td>0.5943</td>\n",
              "      <td>0.4266</td>\n",
              "      <td>0.0000</td>\n",
              "      <td>1.0410</td>\n",
              "      <td>-0.1131</td>\n",
              "      <td>0.6593</td>\n",
              "      <td>-0.6890</td>\n",
              "      <td>0.5115</td>\n",
              "      <td>-0.2512</td>\n",
              "      <td>-0.8775</td>\n",
              "      <td>-1.3810</td>\n",
              "      <td>0.1419</td>\n",
              "      <td>-0.0363</td>\n",
              "      <td>0.2559</td>\n",
              "      <td>2.5290</td>\n",
              "      <td>0.2853</td>\n",
              "      <td>1.4690</td>\n",
              "      <td>-0.3626</td>\n",
              "      <td>...</td>\n",
              "      <td>-0.7493</td>\n",
              "      <td>-0.2701</td>\n",
              "      <td>0.1205</td>\n",
              "      <td>0.2396</td>\n",
              "      <td>0.3506</td>\n",
              "      <td>-0.9233</td>\n",
              "      <td>0.2490</td>\n",
              "      <td>-0.0824</td>\n",
              "      <td>0.4841</td>\n",
              "      <td>1.1940</td>\n",
              "      <td>-1.1650</td>\n",
              "      <td>-0.4853</td>\n",
              "      <td>1.1080</td>\n",
              "      <td>-0.5979</td>\n",
              "      <td>0.7438</td>\n",
              "      <td>0.2050</td>\n",
              "      <td>-0.2761</td>\n",
              "      <td>-0.1748</td>\n",
              "      <td>0.3385</td>\n",
              "      <td>-0.3500</td>\n",
              "      <td>-0.0309</td>\n",
              "      <td>-0.0409</td>\n",
              "      <td>-0.0735</td>\n",
              "      <td>0.2732</td>\n",
              "      <td>-1.210</td>\n",
              "      <td>0.0089</td>\n",
              "      <td>0.0317</td>\n",
              "      <td>0.4721</td>\n",
              "      <td>-0.3880</td>\n",
              "      <td>-0.6828</td>\n",
              "      <td>-0.6594</td>\n",
              "      <td>-0.2043</td>\n",
              "      <td>0.3571</td>\n",
              "      <td>-0.1319</td>\n",
              "      <td>0.2187</td>\n",
              "      <td>0.0737</td>\n",
              "      <td>0.6498</td>\n",
              "      <td>-1.4820</td>\n",
              "      <td>0</td>\n",
              "      <td>False</td>\n",
              "    </tr>\n",
              "    <tr>\n",
              "      <th>39</th>\n",
              "      <td>id_0079d45d3</td>\n",
              "      <td>com_droga</td>\n",
              "      <td>24</td>\n",
              "      <td>D1</td>\n",
              "      <td>292ab2c28</td>\n",
              "      <td>1.6310</td>\n",
              "      <td>-2.1430</td>\n",
              "      <td>-0.0943</td>\n",
              "      <td>-1.1990</td>\n",
              "      <td>0.4869</td>\n",
              "      <td>-0.0935</td>\n",
              "      <td>1.2090</td>\n",
              "      <td>-3.8910</td>\n",
              "      <td>-1.5450</td>\n",
              "      <td>-2.2870</td>\n",
              "      <td>-2.2040</td>\n",
              "      <td>-0.8888</td>\n",
              "      <td>-1.1730</td>\n",
              "      <td>0.0444</td>\n",
              "      <td>-3.9430</td>\n",
              "      <td>0.1673</td>\n",
              "      <td>-0.9502</td>\n",
              "      <td>-1.1750</td>\n",
              "      <td>0.1686</td>\n",
              "      <td>3.8480</td>\n",
              "      <td>-2.9760</td>\n",
              "      <td>-0.0389</td>\n",
              "      <td>1.6330</td>\n",
              "      <td>-0.0655</td>\n",
              "      <td>1.3810</td>\n",
              "      <td>-2.4340</td>\n",
              "      <td>-1.8040</td>\n",
              "      <td>0.3945</td>\n",
              "      <td>-1.2080</td>\n",
              "      <td>-0.1963</td>\n",
              "      <td>-2.0170</td>\n",
              "      <td>0.6004</td>\n",
              "      <td>-2.5860</td>\n",
              "      <td>-1.4550</td>\n",
              "      <td>-0.4141</td>\n",
              "      <td>...</td>\n",
              "      <td>-2.5430</td>\n",
              "      <td>-6.4260</td>\n",
              "      <td>-2.5320</td>\n",
              "      <td>-4.3570</td>\n",
              "      <td>-4.7560</td>\n",
              "      <td>-0.8781</td>\n",
              "      <td>-3.7800</td>\n",
              "      <td>-1.6340</td>\n",
              "      <td>-3.9660</td>\n",
              "      <td>-1.7890</td>\n",
              "      <td>-3.2480</td>\n",
              "      <td>-2.6720</td>\n",
              "      <td>-1.3250</td>\n",
              "      <td>-2.3430</td>\n",
              "      <td>-3.2220</td>\n",
              "      <td>-2.5160</td>\n",
              "      <td>-2.3410</td>\n",
              "      <td>-2.4620</td>\n",
              "      <td>-3.8760</td>\n",
              "      <td>-2.2450</td>\n",
              "      <td>-3.9450</td>\n",
              "      <td>-1.7400</td>\n",
              "      <td>-4.4320</td>\n",
              "      <td>-3.6740</td>\n",
              "      <td>-2.981</td>\n",
              "      <td>-4.5770</td>\n",
              "      <td>-1.8620</td>\n",
              "      <td>-1.9120</td>\n",
              "      <td>-2.9240</td>\n",
              "      <td>-5.7720</td>\n",
              "      <td>-1.9360</td>\n",
              "      <td>-2.8860</td>\n",
              "      <td>-2.7680</td>\n",
              "      <td>-2.4840</td>\n",
              "      <td>-2.7020</td>\n",
              "      <td>-2.2530</td>\n",
              "      <td>-4.8360</td>\n",
              "      <td>-0.6461</td>\n",
              "      <td>0</td>\n",
              "      <td>False</td>\n",
              "    </tr>\n",
              "  </tbody>\n",
              "</table>\n",
              "<p>5 rows × 879 columns</p>\n",
              "</div>"
            ],
            "text/plain": [
              "              id    tratamento  tempo dose  ...    c-98    c-99  n_moa  ativo_moa\n",
              "7   id_0020d0484     com_droga     48   D1  ... -0.9622  0.0260      1       True\n",
              "16  id_002fb9c19     com_droga     48   D1  ... -9.9840 -6.7840      2       True\n",
              "25  id_0054388ec  com_controle     48   D1  ...  0.8976  1.0050      0      False\n",
              "38  id_0079af0fb  com_controle     24   D1  ...  0.6498 -1.4820      0      False\n",
              "39  id_0079d45d3     com_droga     24   D1  ... -4.8360 -0.6461      0      False\n",
              "\n",
              "[5 rows x 879 columns]"
            ]
          },
          "metadata": {
            "tags": []
          },
          "execution_count": 84
        }
      ]
    },
    {
      "cell_type": "markdown",
      "metadata": {
        "id": "8qCDsu2JwKU_"
      },
      "source": [
        "**Separação Amostral**  \n",
        "dadosModelo possui a base de dados filtrada;  \n",
        "dadosCompleto possui a base sem filtros."
      ]
    },
    {
      "cell_type": "code",
      "metadata": {
        "id": "DoDE-4_p4PFg"
      },
      "source": [
        "dadosModelo = pd.get_dummies(combinadosM, columns=['tempo', 'dose'])\n",
        "\n",
        "x = dadosModelo.drop(['id', 'n_moa', 'ativo_moa', 'droga', 'tratamento'], axis = 1)\n",
        "y = dadosModelo['ativo_moa']\n",
        "x_treino, x_teste, y_treino, y_teste = train_test_split(x, y, test_size = 0.25, stratify = y)"
      ],
      "execution_count": 85,
      "outputs": []
    },
    {
      "cell_type": "code",
      "metadata": {
        "id": "L9exT5sfwJIt"
      },
      "source": [
        "dadosCompleto = pd.get_dummies(combinados, columns=['tempo', 'dose'])\n",
        "\n",
        "xC = dadosCompleto.drop(['id', 'n_moa', 'ativo_moa', 'droga', 'tratamento'], axis = 1)\n",
        "yC = dadosCompleto['ativo_moa']\n",
        "xC_treino, xC_teste, yC_treino, yC_teste = train_test_split(xC, yC, test_size = 0.25, stratify = yC)"
      ],
      "execution_count": 86,
      "outputs": []
    },
    {
      "cell_type": "markdown",
      "metadata": {
        "id": "tt-twMUJ4-RD"
      },
      "source": [
        "**Modelo com os dados filtrados**"
      ]
    },
    {
      "cell_type": "code",
      "metadata": {
        "colab": {
          "base_uri": "https://localhost:8080/"
        },
        "id": "ZBcDAMk9y9wr",
        "outputId": "08e31f07-9ad8-4d8f-8938-0c5c5a989ef8"
      },
      "source": [
        "randomforest = RandomForestClassifier()\n",
        "randomforest.fit(x_treino, y_treino)"
      ],
      "execution_count": 87,
      "outputs": [
        {
          "output_type": "execute_result",
          "data": {
            "text/plain": [
              "RandomForestClassifier(bootstrap=True, ccp_alpha=0.0, class_weight=None,\n",
              "                       criterion='gini', max_depth=None, max_features='auto',\n",
              "                       max_leaf_nodes=None, max_samples=None,\n",
              "                       min_impurity_decrease=0.0, min_impurity_split=None,\n",
              "                       min_samples_leaf=1, min_samples_split=2,\n",
              "                       min_weight_fraction_leaf=0.0, n_estimators=100,\n",
              "                       n_jobs=None, oob_score=False, random_state=None,\n",
              "                       verbose=0, warm_start=False)"
            ]
          },
          "metadata": {
            "tags": []
          },
          "execution_count": 87
        }
      ]
    },
    {
      "cell_type": "markdown",
      "metadata": {
        "id": "QBzyzca75Q5L"
      },
      "source": [
        "**Modelo Dummy**"
      ]
    },
    {
      "cell_type": "code",
      "metadata": {
        "colab": {
          "base_uri": "https://localhost:8080/"
        },
        "id": "z_Wvx6t30x0r",
        "outputId": "740d6fcd-6705-4ed8-c621-c09fbac9791c"
      },
      "source": [
        "modelo_dummy = DummyClassifier('most_frequent')\n",
        "modelo_dummy.fit(xC_treino, yC_treino)"
      ],
      "execution_count": 88,
      "outputs": [
        {
          "output_type": "execute_result",
          "data": {
            "text/plain": [
              "DummyClassifier(constant=None, random_state=None, strategy='most_frequent')"
            ]
          },
          "metadata": {
            "tags": []
          },
          "execution_count": 88
        }
      ]
    },
    {
      "cell_type": "markdown",
      "metadata": {
        "id": "rjKRft0-5TuT"
      },
      "source": [
        "**Modelo com os Dados Completos**"
      ]
    },
    {
      "cell_type": "code",
      "metadata": {
        "colab": {
          "base_uri": "https://localhost:8080/"
        },
        "id": "oa4mfYZP4Xio",
        "outputId": "7a206e01-9600-42c7-854e-e3ff1546a12f"
      },
      "source": [
        "randomforestC = RandomForestClassifier()\n",
        "randomforestC.fit(xC_treino, yC_treino)"
      ],
      "execution_count": 89,
      "outputs": [
        {
          "output_type": "execute_result",
          "data": {
            "text/plain": [
              "RandomForestClassifier(bootstrap=True, ccp_alpha=0.0, class_weight=None,\n",
              "                       criterion='gini', max_depth=None, max_features='auto',\n",
              "                       max_leaf_nodes=None, max_samples=None,\n",
              "                       min_impurity_decrease=0.0, min_impurity_split=None,\n",
              "                       min_samples_leaf=1, min_samples_split=2,\n",
              "                       min_weight_fraction_leaf=0.0, n_estimators=100,\n",
              "                       n_jobs=None, oob_score=False, random_state=None,\n",
              "                       verbose=0, warm_start=False)"
            ]
          },
          "metadata": {
            "tags": []
          },
          "execution_count": 89
        }
      ]
    },
    {
      "cell_type": "markdown",
      "metadata": {
        "id": "ZJm8vTwZxAH_"
      },
      "source": [
        "#### Testes"
      ]
    },
    {
      "cell_type": "markdown",
      "metadata": {
        "id": "1fPm1jc-wjQ7"
      },
      "source": [
        "**Teste para os dados filtrados**"
      ]
    },
    {
      "cell_type": "markdown",
      "metadata": {
        "id": "cd-EaYHUxDwl"
      },
      "source": [
        "Modelo Filtrado"
      ]
    },
    {
      "cell_type": "code",
      "metadata": {
        "colab": {
          "base_uri": "https://localhost:8080/"
        },
        "id": "ktnLNkqOwsI3",
        "outputId": "b3014aa3-d811-4902-e553-4bd314e3ef20"
      },
      "source": [
        "previsao_rForest = randomforest.predict(x_teste)\n",
        "accuracy_score(y_teste, previsao_rForest)"
      ],
      "execution_count": 90,
      "outputs": [
        {
          "output_type": "execute_result",
          "data": {
            "text/plain": [
              "0.9679358717434869"
            ]
          },
          "metadata": {
            "tags": []
          },
          "execution_count": 90
        }
      ]
    },
    {
      "cell_type": "markdown",
      "metadata": {
        "id": "BaBHupcixGF-"
      },
      "source": [
        "Modelo Completo"
      ]
    },
    {
      "cell_type": "code",
      "metadata": {
        "colab": {
          "base_uri": "https://localhost:8080/"
        },
        "id": "fufbCPtRwvfX",
        "outputId": "0b4ebcc1-d5fa-4b93-b42a-049977b29776"
      },
      "source": [
        "previsao_rForestC = randomforestC.predict(x_teste)\n",
        "accuracy_score(y_teste, previsao_rForestC)"
      ],
      "execution_count": 91,
      "outputs": [
        {
          "output_type": "execute_result",
          "data": {
            "text/plain": [
              "0.9729458917835672"
            ]
          },
          "metadata": {
            "tags": []
          },
          "execution_count": 91
        }
      ]
    },
    {
      "cell_type": "markdown",
      "metadata": {
        "id": "2HUhjYOoxK0u"
      },
      "source": [
        "Modelo Dummy\n"
      ]
    },
    {
      "cell_type": "code",
      "metadata": {
        "colab": {
          "base_uri": "https://localhost:8080/"
        },
        "id": "Q_rm8zTAxPsu",
        "outputId": "780b2e11-f47d-45ef-abb4-0a0fcf83b368"
      },
      "source": [
        "previsao_dummy = modelo_dummy.predict(x_teste)\n",
        "accuracy_score(y_teste, previsao_dummy)"
      ],
      "execution_count": 92,
      "outputs": [
        {
          "output_type": "execute_result",
          "data": {
            "text/plain": [
              "0.48396793587174347"
            ]
          },
          "metadata": {
            "tags": []
          },
          "execution_count": 92
        }
      ]
    },
    {
      "cell_type": "markdown",
      "metadata": {
        "id": "sw4CImspt-e7"
      },
      "source": [
        "**Teste Dados Completos**"
      ]
    },
    {
      "cell_type": "markdown",
      "metadata": {
        "id": "h87HUrBRxj2x"
      },
      "source": [
        "Modelo Filtrado"
      ]
    },
    {
      "cell_type": "code",
      "metadata": {
        "colab": {
          "base_uri": "https://localhost:8080/"
        },
        "id": "ONqyRoNbsL8n",
        "outputId": "da700654-be98-4dfd-be6e-2c1a85a7aa47"
      },
      "source": [
        "previsao_rForest = randomforest.predict(xC_teste)\n",
        "accuracy_score(yC_teste, previsao_rForest)"
      ],
      "execution_count": 93,
      "outputs": [
        {
          "output_type": "execute_result",
          "data": {
            "text/plain": [
              "0.5047027208599261"
            ]
          },
          "metadata": {
            "tags": []
          },
          "execution_count": 93
        }
      ]
    },
    {
      "cell_type": "markdown",
      "metadata": {
        "id": "KyGHg9asuJ0O"
      },
      "source": [
        "Modelo Completo"
      ]
    },
    {
      "cell_type": "code",
      "metadata": {
        "colab": {
          "base_uri": "https://localhost:8080/"
        },
        "id": "WCZm5QjquLGz",
        "outputId": "2647a377-83b6-4730-d81e-5a3a9ce8dfb4"
      },
      "source": [
        "previsao_rForestC = randomforestC.predict(xC_teste)\n",
        "accuracy_score(yC_teste, previsao_rForestC)"
      ],
      "execution_count": 94,
      "outputs": [
        {
          "output_type": "execute_result",
          "data": {
            "text/plain": [
              "0.6489754786698018"
            ]
          },
          "metadata": {
            "tags": []
          },
          "execution_count": 94
        }
      ]
    },
    {
      "cell_type": "markdown",
      "metadata": {
        "id": "gavQG-JWx0HC"
      },
      "source": [
        "Modelo Dummy\n"
      ]
    },
    {
      "cell_type": "code",
      "metadata": {
        "colab": {
          "base_uri": "https://localhost:8080/"
        },
        "id": "_ybFbQswx2Bk",
        "outputId": "9eda83d8-335a-4d05-eda2-2491236f8d56"
      },
      "source": [
        "previsao_dummy = modelo_dummy.predict(xC_teste)\n",
        "accuracy_score(yC_teste, previsao_dummy)"
      ],
      "execution_count": 95,
      "outputs": [
        {
          "output_type": "execute_result",
          "data": {
            "text/plain": [
              "0.6066509909304669"
            ]
          },
          "metadata": {
            "tags": []
          },
          "execution_count": 95
        }
      ]
    },
    {
      "cell_type": "markdown",
      "metadata": {
        "id": "1RnrFYpq5deX"
      },
      "source": [
        "## Discussão e Resultados\n",
        " Ao longo da análise percebe-se que a quantia de MOAs ativados, \"pouco\" variou com relação a Dose ou o Tempo de coleta dos dados, mas havia grandes diferenças no número de ativação entre cada droga. Como se desconhece quais são os mecanismo de ação de interesse, não é possível dizer se essas variações possuem algum significado importante.  \n",
        " Para a previsão da ativação de um MOA utiliza-se uma abordagem simples, usando como alvo a ativação ou não de um MOA. Utiliza-se um modelo de **random forest** usando como base de treino os dados filtrados (com mais de 30 entradas para determinada droga) e os dados completo e espera-se que ao utilizar os dados filtrados crie-se um modelo com maior acurácia. \n",
        "\n",
        "Portanto são criados três modelos:\n",
        " 1. Modelo Random Forest treinado com a base de dados filtrada, referido como Modelo Filtrado;\n",
        " 2. Modelo Random Forest treinado com a base de dados completa, referido como Modelo Completo;\n",
        " 3. Modelo Dummy.  \n",
        "\n",
        "E os testes foram realizados em duas base dados:\n",
        " 1. Base de dados filtrada\n",
        " 2. Base de dados completa\n",
        "\n",
        "Os resultados encontrados foram:\n",
        "\n",
        "> Previsão dos Dados Filtrados:\n",
        "- O Modelo Filtrado mostra uma acurácia muito similar ao Modelo Completo (97%) e os dois são bem mais acurados que o Dummy (48%). Mostrando uma capacidade de generalização na previsão de ativação ou não de um MOA para as drogas mais utilizadas.\n",
        "\n",
        "> Previsão dos Dados Completos:\n",
        "- Nesse caso a acurácia do Modelo Filtrado (51,69%) é inferior tanto ao do Modelo Completo (65%) quanto ao Dummy (60,6%). Mostrando uma incapacidade de generalizar a ativação ou não de um MOA, já que não há uma diferença significativa entre o modelo Dummy e os outros dois.\n",
        "\n",
        "A hipótese inicial se mostra falha, contudo pode-se perceber uma possível generalização para uma seção do dataset, quando se usa apenas os compostos mais testados.\n",
        " \n",
        "\n",
        "\n",
        "  "
      ]
    },
    {
      "cell_type": "markdown",
      "metadata": {
        "id": "F0DNhjG5wEjN"
      },
      "source": [
        "\n",
        "---\n",
        "\n",
        "# Autor: Vinicius Suguimoto\n",
        "\n",
        "[LinkedIn](https://www.linkedin.com/in/suguimotovinicius/)  \n",
        "[Instagram](https://www.instagram.com/vinisug/)  \n",
        "**Nota**: Os resultados aqui apresentados são apenas didáticos e não possuem significado real para a pesquisa.\n",
        "\n"
      ]
    }
  ]
}